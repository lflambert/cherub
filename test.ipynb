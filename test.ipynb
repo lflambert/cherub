{
 "cells": [
  {
   "cell_type": "code",
   "execution_count": 15,
   "metadata": {},
   "outputs": [],
   "source": [
    "#Exploratory data analysis for Cohorts of college graduates vs. parents\n",
    "#Start examiniing and cleaning data; import necessary packages\n",
    "import pandas as pd\n",
    "import numpy as np\n",
    "import os\n"
   ]
  },
  {
   "cell_type": "code",
   "execution_count": 16,
   "metadata": {},
   "outputs": [
    {
     "data": {
      "text/plain": [
       "'/Users/lindalambert/Desktop'"
      ]
     },
     "execution_count": 16,
     "metadata": {},
     "output_type": "execute_result"
    }
   ],
   "source": [
    "#Find path\n",
    "pwd\n"
   ]
  },
  {
   "cell_type": "code",
   "execution_count": 17,
   "metadata": {},
   "outputs": [
    {
     "data": {
      "text/html": [
       "<div>\n",
       "<style scoped>\n",
       "    .dataframe tbody tr th:only-of-type {\n",
       "        vertical-align: middle;\n",
       "    }\n",
       "\n",
       "    .dataframe tbody tr th {\n",
       "        vertical-align: top;\n",
       "    }\n",
       "\n",
       "    .dataframe thead th {\n",
       "        text-align: right;\n",
       "    }\n",
       "</style>\n",
       "<table border=\"1\" class=\"dataframe\">\n",
       "  <thead>\n",
       "    <tr style=\"text-align: right;\">\n",
       "      <th></th>\n",
       "      <th>cohort</th>\n",
       "      <th>par_ventile</th>\n",
       "      <th>tier</th>\n",
       "      <th>tier_name</th>\n",
       "      <th>par_mean</th>\n",
       "      <th>k_mean</th>\n",
       "      <th>k_rank</th>\n",
       "      <th>k_top1pc</th>\n",
       "      <th>k_top5pc</th>\n",
       "      <th>k_top10pc</th>\n",
       "      <th>...</th>\n",
       "      <th>k_q3</th>\n",
       "      <th>k_q2</th>\n",
       "      <th>k_q1</th>\n",
       "      <th>k_nowork</th>\n",
       "      <th>married</th>\n",
       "      <th>k_median</th>\n",
       "      <th>k_median_nozero</th>\n",
       "      <th>count</th>\n",
       "      <th>tot_count</th>\n",
       "      <th>density</th>\n",
       "    </tr>\n",
       "  </thead>\n",
       "  <tbody>\n",
       "    <tr>\n",
       "      <th>0</th>\n",
       "      <td>1980</td>\n",
       "      <td>1</td>\n",
       "      <td>1</td>\n",
       "      <td>Ivy Plus</td>\n",
       "      <td>6200.0</td>\n",
       "      <td>106300.0</td>\n",
       "      <td>0.700131</td>\n",
       "      <td>0.096970</td>\n",
       "      <td>0.333333</td>\n",
       "      <td>0.442424</td>\n",
       "      <td>...</td>\n",
       "      <td>0.066667</td>\n",
       "      <td>0.078788</td>\n",
       "      <td>0.157576</td>\n",
       "      <td>0.151515</td>\n",
       "      <td>0.581818</td>\n",
       "      <td>68100.0</td>\n",
       "      <td>83800.0</td>\n",
       "      <td>165.0</td>\n",
       "      <td>17653.0</td>\n",
       "      <td>0.009347</td>\n",
       "    </tr>\n",
       "    <tr>\n",
       "      <th>1</th>\n",
       "      <td>1980</td>\n",
       "      <td>1</td>\n",
       "      <td>2</td>\n",
       "      <td>Other elite schools (public and private)</td>\n",
       "      <td>6500.0</td>\n",
       "      <td>71800.0</td>\n",
       "      <td>0.670964</td>\n",
       "      <td>0.050000</td>\n",
       "      <td>0.216667</td>\n",
       "      <td>0.324242</td>\n",
       "      <td>...</td>\n",
       "      <td>0.092424</td>\n",
       "      <td>0.107576</td>\n",
       "      <td>0.133333</td>\n",
       "      <td>0.124242</td>\n",
       "      <td>0.493939</td>\n",
       "      <td>56600.0</td>\n",
       "      <td>64600.0</td>\n",
       "      <td>660.0</td>\n",
       "      <td>60703.0</td>\n",
       "      <td>0.010873</td>\n",
       "    </tr>\n",
       "    <tr>\n",
       "      <th>2</th>\n",
       "      <td>1980</td>\n",
       "      <td>1</td>\n",
       "      <td>3</td>\n",
       "      <td>Highly selective public</td>\n",
       "      <td>7000.0</td>\n",
       "      <td>63600.0</td>\n",
       "      <td>0.649980</td>\n",
       "      <td>0.032670</td>\n",
       "      <td>0.158381</td>\n",
       "      <td>0.267756</td>\n",
       "      <td>...</td>\n",
       "      <td>0.132812</td>\n",
       "      <td>0.118608</td>\n",
       "      <td>0.117898</td>\n",
       "      <td>0.111506</td>\n",
       "      <td>0.485795</td>\n",
       "      <td>49300.0</td>\n",
       "      <td>55900.0</td>\n",
       "      <td>1408.0</td>\n",
       "      <td>126735.0</td>\n",
       "      <td>0.011110</td>\n",
       "    </tr>\n",
       "    <tr>\n",
       "      <th>3</th>\n",
       "      <td>1980</td>\n",
       "      <td>1</td>\n",
       "      <td>4</td>\n",
       "      <td>Highly selective private</td>\n",
       "      <td>6800.0</td>\n",
       "      <td>60300.0</td>\n",
       "      <td>0.625801</td>\n",
       "      <td>0.028302</td>\n",
       "      <td>0.117925</td>\n",
       "      <td>0.233491</td>\n",
       "      <td>...</td>\n",
       "      <td>0.132075</td>\n",
       "      <td>0.120283</td>\n",
       "      <td>0.141509</td>\n",
       "      <td>0.136792</td>\n",
       "      <td>0.478774</td>\n",
       "      <td>48300.0</td>\n",
       "      <td>53700.0</td>\n",
       "      <td>424.0</td>\n",
       "      <td>42920.0</td>\n",
       "      <td>0.009879</td>\n",
       "    </tr>\n",
       "    <tr>\n",
       "      <th>4</th>\n",
       "      <td>1980</td>\n",
       "      <td>1</td>\n",
       "      <td>5</td>\n",
       "      <td>Selective public</td>\n",
       "      <td>7200.0</td>\n",
       "      <td>41300.0</td>\n",
       "      <td>0.555779</td>\n",
       "      <td>0.007898</td>\n",
       "      <td>0.052871</td>\n",
       "      <td>0.113826</td>\n",
       "      <td>...</td>\n",
       "      <td>0.208976</td>\n",
       "      <td>0.173295</td>\n",
       "      <td>0.135291</td>\n",
       "      <td>0.124884</td>\n",
       "      <td>0.436629</td>\n",
       "      <td>35100.0</td>\n",
       "      <td>39700.0</td>\n",
       "      <td>10762.0</td>\n",
       "      <td>616241.0</td>\n",
       "      <td>0.017464</td>\n",
       "    </tr>\n",
       "  </tbody>\n",
       "</table>\n",
       "<p>5 rows × 22 columns</p>\n",
       "</div>"
      ],
      "text/plain": [
       "   cohort  par_ventile  tier                                 tier_name  \\\n",
       "0    1980            1     1                                  Ivy Plus   \n",
       "1    1980            1     2  Other elite schools (public and private)   \n",
       "2    1980            1     3                   Highly selective public   \n",
       "3    1980            1     4                  Highly selective private   \n",
       "4    1980            1     5                          Selective public   \n",
       "\n",
       "   par_mean    k_mean    k_rank  k_top1pc  k_top5pc  k_top10pc  ...      k_q3  \\\n",
       "0    6200.0  106300.0  0.700131  0.096970  0.333333   0.442424  ...  0.066667   \n",
       "1    6500.0   71800.0  0.670964  0.050000  0.216667   0.324242  ...  0.092424   \n",
       "2    7000.0   63600.0  0.649980  0.032670  0.158381   0.267756  ...  0.132812   \n",
       "3    6800.0   60300.0  0.625801  0.028302  0.117925   0.233491  ...  0.132075   \n",
       "4    7200.0   41300.0  0.555779  0.007898  0.052871   0.113826  ...  0.208976   \n",
       "\n",
       "       k_q2      k_q1  k_nowork   married  k_median  k_median_nozero    count  \\\n",
       "0  0.078788  0.157576  0.151515  0.581818   68100.0          83800.0    165.0   \n",
       "1  0.107576  0.133333  0.124242  0.493939   56600.0          64600.0    660.0   \n",
       "2  0.118608  0.117898  0.111506  0.485795   49300.0          55900.0   1408.0   \n",
       "3  0.120283  0.141509  0.136792  0.478774   48300.0          53700.0    424.0   \n",
       "4  0.173295  0.135291  0.124884  0.436629   35100.0          39700.0  10762.0   \n",
       "\n",
       "   tot_count   density  \n",
       "0    17653.0  0.009347  \n",
       "1    60703.0  0.010873  \n",
       "2   126735.0  0.011110  \n",
       "3    42920.0  0.009879  \n",
       "4   616241.0  0.017464  \n",
       "\n",
       "[5 rows x 22 columns]"
      ]
     },
     "execution_count": 17,
     "metadata": {},
     "output_type": "execute_result"
    }
   ],
   "source": [
    "#Import csv file into python and look at first five row of data\n",
    "path=('/Users/lindalambert/Desktop/mrc_table8.csv')\n",
    "df = pd.read_csv(path)\n",
    "df.head()"
   ]
  },
  {
   "cell_type": "code",
   "execution_count": 18,
   "metadata": {},
   "outputs": [
    {
     "data": {
      "text/html": [
       "<div>\n",
       "<style scoped>\n",
       "    .dataframe tbody tr th:only-of-type {\n",
       "        vertical-align: middle;\n",
       "    }\n",
       "\n",
       "    .dataframe tbody tr th {\n",
       "        vertical-align: top;\n",
       "    }\n",
       "\n",
       "    .dataframe thead th {\n",
       "        text-align: right;\n",
       "    }\n",
       "</style>\n",
       "<table border=\"1\" class=\"dataframe\">\n",
       "  <thead>\n",
       "    <tr style=\"text-align: right;\">\n",
       "      <th></th>\n",
       "      <th>cohort</th>\n",
       "      <th>par_ventile</th>\n",
       "      <th>tier</th>\n",
       "      <th>par_mean</th>\n",
       "      <th>k_mean</th>\n",
       "      <th>k_rank</th>\n",
       "      <th>k_top1pc</th>\n",
       "      <th>k_top5pc</th>\n",
       "      <th>k_top10pc</th>\n",
       "      <th>k_q5</th>\n",
       "      <th>...</th>\n",
       "      <th>k_q3</th>\n",
       "      <th>k_q2</th>\n",
       "      <th>k_q1</th>\n",
       "      <th>k_nowork</th>\n",
       "      <th>married</th>\n",
       "      <th>k_median</th>\n",
       "      <th>k_median_nozero</th>\n",
       "      <th>count</th>\n",
       "      <th>tot_count</th>\n",
       "      <th>density</th>\n",
       "    </tr>\n",
       "  </thead>\n",
       "  <tbody>\n",
       "    <tr>\n",
       "      <th>count</th>\n",
       "      <td>3528.000000</td>\n",
       "      <td>3528.000000</td>\n",
       "      <td>3528.0000</td>\n",
       "      <td>3.519000e+03</td>\n",
       "      <td>3519.000000</td>\n",
       "      <td>3519.000000</td>\n",
       "      <td>3519.000000</td>\n",
       "      <td>3519.000000</td>\n",
       "      <td>3519.000000</td>\n",
       "      <td>3519.000000</td>\n",
       "      <td>...</td>\n",
       "      <td>3519.000000</td>\n",
       "      <td>3519.000000</td>\n",
       "      <td>3519.000000</td>\n",
       "      <td>3519.000000</td>\n",
       "      <td>3519.000000</td>\n",
       "      <td>3519.000000</td>\n",
       "      <td>3513.000000</td>\n",
       "      <td>3519.000000</td>\n",
       "      <td>3.519000e+03</td>\n",
       "      <td>3519.000000</td>\n",
       "    </tr>\n",
       "    <tr>\n",
       "      <th>mean</th>\n",
       "      <td>1985.500000</td>\n",
       "      <td>14.714286</td>\n",
       "      <td>7.5000</td>\n",
       "      <td>1.608400e+05</td>\n",
       "      <td>35826.939471</td>\n",
       "      <td>0.561091</td>\n",
       "      <td>0.025247</td>\n",
       "      <td>0.090039</td>\n",
       "      <td>0.156838</td>\n",
       "      <td>0.275540</td>\n",
       "      <td>...</td>\n",
       "      <td>0.190648</td>\n",
       "      <td>0.181639</td>\n",
       "      <td>0.144829</td>\n",
       "      <td>0.129817</td>\n",
       "      <td>0.310508</td>\n",
       "      <td>28896.334186</td>\n",
       "      <td>33125.875320</td>\n",
       "      <td>13809.461211</td>\n",
       "      <td>2.871042e+05</td>\n",
       "      <td>0.049222</td>\n",
       "    </tr>\n",
       "    <tr>\n",
       "      <th>std</th>\n",
       "      <td>3.452542</td>\n",
       "      <td>19.671818</td>\n",
       "      <td>4.0317</td>\n",
       "      <td>3.567736e+05</td>\n",
       "      <td>21665.045781</td>\n",
       "      <td>0.100427</td>\n",
       "      <td>0.039453</td>\n",
       "      <td>0.089933</td>\n",
       "      <td>0.122388</td>\n",
       "      <td>0.155734</td>\n",
       "      <td>...</td>\n",
       "      <td>0.056014</td>\n",
       "      <td>0.062910</td>\n",
       "      <td>0.067521</td>\n",
       "      <td>0.062769</td>\n",
       "      <td>0.157847</td>\n",
       "      <td>14705.808070</td>\n",
       "      <td>14970.687931</td>\n",
       "      <td>22741.411443</td>\n",
       "      <td>4.081878e+05</td>\n",
       "      <td>0.040048</td>\n",
       "    </tr>\n",
       "    <tr>\n",
       "      <th>min</th>\n",
       "      <td>1980.000000</td>\n",
       "      <td>1.000000</td>\n",
       "      <td>1.0000</td>\n",
       "      <td>1.800000e+03</td>\n",
       "      <td>6200.000000</td>\n",
       "      <td>0.274227</td>\n",
       "      <td>0.000000</td>\n",
       "      <td>0.000000</td>\n",
       "      <td>0.000000</td>\n",
       "      <td>0.033048</td>\n",
       "      <td>...</td>\n",
       "      <td>0.042453</td>\n",
       "      <td>0.033113</td>\n",
       "      <td>0.057141</td>\n",
       "      <td>0.047778</td>\n",
       "      <td>0.006341</td>\n",
       "      <td>300.000000</td>\n",
       "      <td>10000.000000</td>\n",
       "      <td>51.000000</td>\n",
       "      <td>2.906000e+03</td>\n",
       "      <td>0.001247</td>\n",
       "    </tr>\n",
       "    <tr>\n",
       "      <th>25%</th>\n",
       "      <td>1982.750000</td>\n",
       "      <td>6.000000</td>\n",
       "      <td>4.0000</td>\n",
       "      <td>2.775000e+04</td>\n",
       "      <td>21500.000000</td>\n",
       "      <td>0.489743</td>\n",
       "      <td>0.003110</td>\n",
       "      <td>0.024399</td>\n",
       "      <td>0.059101</td>\n",
       "      <td>0.147728</td>\n",
       "      <td>...</td>\n",
       "      <td>0.142828</td>\n",
       "      <td>0.127749</td>\n",
       "      <td>0.101151</td>\n",
       "      <td>0.091192</td>\n",
       "      <td>0.181218</td>\n",
       "      <td>17600.000000</td>\n",
       "      <td>21800.000000</td>\n",
       "      <td>1385.000000</td>\n",
       "      <td>4.230900e+04</td>\n",
       "      <td>0.026854</td>\n",
       "    </tr>\n",
       "    <tr>\n",
       "      <th>50%</th>\n",
       "      <td>1985.500000</td>\n",
       "      <td>11.000000</td>\n",
       "      <td>7.5000</td>\n",
       "      <td>6.020000e+04</td>\n",
       "      <td>30000.000000</td>\n",
       "      <td>0.551845</td>\n",
       "      <td>0.008544</td>\n",
       "      <td>0.051899</td>\n",
       "      <td>0.111328</td>\n",
       "      <td>0.235370</td>\n",
       "      <td>...</td>\n",
       "      <td>0.200789</td>\n",
       "      <td>0.184057</td>\n",
       "      <td>0.131673</td>\n",
       "      <td>0.116656</td>\n",
       "      <td>0.304621</td>\n",
       "      <td>26000.000000</td>\n",
       "      <td>30200.000000</td>\n",
       "      <td>4304.000000</td>\n",
       "      <td>1.003500e+05</td>\n",
       "      <td>0.047306</td>\n",
       "    </tr>\n",
       "    <tr>\n",
       "      <th>75%</th>\n",
       "      <td>1988.250000</td>\n",
       "      <td>16.000000</td>\n",
       "      <td>11.0000</td>\n",
       "      <td>1.065000e+05</td>\n",
       "      <td>42700.000000</td>\n",
       "      <td>0.646868</td>\n",
       "      <td>0.028316</td>\n",
       "      <td>0.135475</td>\n",
       "      <td>0.244348</td>\n",
       "      <td>0.409168</td>\n",
       "      <td>...</td>\n",
       "      <td>0.238059</td>\n",
       "      <td>0.226090</td>\n",
       "      <td>0.165501</td>\n",
       "      <td>0.146459</td>\n",
       "      <td>0.432818</td>\n",
       "      <td>36600.000000</td>\n",
       "      <td>40700.000000</td>\n",
       "      <td>13570.500000</td>\n",
       "      <td>2.547710e+05</td>\n",
       "      <td>0.059455</td>\n",
       "    </tr>\n",
       "    <tr>\n",
       "      <th>max</th>\n",
       "      <td>1991.000000</td>\n",
       "      <td>99.000000</td>\n",
       "      <td>14.0000</td>\n",
       "      <td>3.414800e+06</td>\n",
       "      <td>207200.000000</td>\n",
       "      <td>0.789968</td>\n",
       "      <td>0.262852</td>\n",
       "      <td>0.489749</td>\n",
       "      <td>0.588781</td>\n",
       "      <td>0.692873</td>\n",
       "      <td>...</td>\n",
       "      <td>0.321168</td>\n",
       "      <td>0.381818</td>\n",
       "      <td>0.542687</td>\n",
       "      <td>0.533999</td>\n",
       "      <td>0.678007</td>\n",
       "      <td>102200.000000</td>\n",
       "      <td>113700.000000</td>\n",
       "      <td>132032.000000</td>\n",
       "      <td>1.527830e+06</td>\n",
       "      <td>0.416758</td>\n",
       "    </tr>\n",
       "  </tbody>\n",
       "</table>\n",
       "<p>8 rows × 21 columns</p>\n",
       "</div>"
      ],
      "text/plain": [
       "            cohort  par_ventile       tier      par_mean         k_mean  \\\n",
       "count  3528.000000  3528.000000  3528.0000  3.519000e+03    3519.000000   \n",
       "mean   1985.500000    14.714286     7.5000  1.608400e+05   35826.939471   \n",
       "std       3.452542    19.671818     4.0317  3.567736e+05   21665.045781   \n",
       "min    1980.000000     1.000000     1.0000  1.800000e+03    6200.000000   \n",
       "25%    1982.750000     6.000000     4.0000  2.775000e+04   21500.000000   \n",
       "50%    1985.500000    11.000000     7.5000  6.020000e+04   30000.000000   \n",
       "75%    1988.250000    16.000000    11.0000  1.065000e+05   42700.000000   \n",
       "max    1991.000000    99.000000    14.0000  3.414800e+06  207200.000000   \n",
       "\n",
       "            k_rank     k_top1pc     k_top5pc    k_top10pc         k_q5  ...  \\\n",
       "count  3519.000000  3519.000000  3519.000000  3519.000000  3519.000000  ...   \n",
       "mean      0.561091     0.025247     0.090039     0.156838     0.275540  ...   \n",
       "std       0.100427     0.039453     0.089933     0.122388     0.155734  ...   \n",
       "min       0.274227     0.000000     0.000000     0.000000     0.033048  ...   \n",
       "25%       0.489743     0.003110     0.024399     0.059101     0.147728  ...   \n",
       "50%       0.551845     0.008544     0.051899     0.111328     0.235370  ...   \n",
       "75%       0.646868     0.028316     0.135475     0.244348     0.409168  ...   \n",
       "max       0.789968     0.262852     0.489749     0.588781     0.692873  ...   \n",
       "\n",
       "              k_q3         k_q2         k_q1     k_nowork      married  \\\n",
       "count  3519.000000  3519.000000  3519.000000  3519.000000  3519.000000   \n",
       "mean      0.190648     0.181639     0.144829     0.129817     0.310508   \n",
       "std       0.056014     0.062910     0.067521     0.062769     0.157847   \n",
       "min       0.042453     0.033113     0.057141     0.047778     0.006341   \n",
       "25%       0.142828     0.127749     0.101151     0.091192     0.181218   \n",
       "50%       0.200789     0.184057     0.131673     0.116656     0.304621   \n",
       "75%       0.238059     0.226090     0.165501     0.146459     0.432818   \n",
       "max       0.321168     0.381818     0.542687     0.533999     0.678007   \n",
       "\n",
       "            k_median  k_median_nozero          count     tot_count  \\\n",
       "count    3519.000000      3513.000000    3519.000000  3.519000e+03   \n",
       "mean    28896.334186     33125.875320   13809.461211  2.871042e+05   \n",
       "std     14705.808070     14970.687931   22741.411443  4.081878e+05   \n",
       "min       300.000000     10000.000000      51.000000  2.906000e+03   \n",
       "25%     17600.000000     21800.000000    1385.000000  4.230900e+04   \n",
       "50%     26000.000000     30200.000000    4304.000000  1.003500e+05   \n",
       "75%     36600.000000     40700.000000   13570.500000  2.547710e+05   \n",
       "max    102200.000000    113700.000000  132032.000000  1.527830e+06   \n",
       "\n",
       "           density  \n",
       "count  3519.000000  \n",
       "mean      0.049222  \n",
       "std       0.040048  \n",
       "min       0.001247  \n",
       "25%       0.026854  \n",
       "50%       0.047306  \n",
       "75%       0.059455  \n",
       "max       0.416758  \n",
       "\n",
       "[8 rows x 21 columns]"
      ]
     },
     "execution_count": 18,
     "metadata": {},
     "output_type": "execute_result"
    }
   ],
   "source": [
    "#Describe data\n",
    "df.describe()"
   ]
  },
  {
   "cell_type": "code",
   "execution_count": 19,
   "metadata": {},
   "outputs": [
    {
     "data": {
      "text/html": [
       "<div>\n",
       "<style scoped>\n",
       "    .dataframe tbody tr th:only-of-type {\n",
       "        vertical-align: middle;\n",
       "    }\n",
       "\n",
       "    .dataframe tbody tr th {\n",
       "        vertical-align: top;\n",
       "    }\n",
       "\n",
       "    .dataframe thead th {\n",
       "        text-align: right;\n",
       "    }\n",
       "</style>\n",
       "<table border=\"1\" class=\"dataframe\">\n",
       "  <thead>\n",
       "    <tr style=\"text-align: right;\">\n",
       "      <th></th>\n",
       "      <th>cohort</th>\n",
       "      <th>par_ventile</th>\n",
       "      <th>tier</th>\n",
       "      <th>tier_name</th>\n",
       "      <th>par_mean</th>\n",
       "      <th>k_mean</th>\n",
       "      <th>k_rank</th>\n",
       "      <th>k_top1pc</th>\n",
       "      <th>k_top5pc</th>\n",
       "      <th>k_top10pc</th>\n",
       "      <th>...</th>\n",
       "      <th>k_q3</th>\n",
       "      <th>k_q2</th>\n",
       "      <th>k_q1</th>\n",
       "      <th>k_nowork</th>\n",
       "      <th>married</th>\n",
       "      <th>k_median</th>\n",
       "      <th>k_median_nozero</th>\n",
       "      <th>count</th>\n",
       "      <th>tot_count</th>\n",
       "      <th>density</th>\n",
       "    </tr>\n",
       "  </thead>\n",
       "  <tbody>\n",
       "    <tr>\n",
       "      <th>0</th>\n",
       "      <td>False</td>\n",
       "      <td>False</td>\n",
       "      <td>False</td>\n",
       "      <td>False</td>\n",
       "      <td>False</td>\n",
       "      <td>False</td>\n",
       "      <td>False</td>\n",
       "      <td>False</td>\n",
       "      <td>False</td>\n",
       "      <td>False</td>\n",
       "      <td>...</td>\n",
       "      <td>False</td>\n",
       "      <td>False</td>\n",
       "      <td>False</td>\n",
       "      <td>False</td>\n",
       "      <td>False</td>\n",
       "      <td>False</td>\n",
       "      <td>False</td>\n",
       "      <td>False</td>\n",
       "      <td>False</td>\n",
       "      <td>False</td>\n",
       "    </tr>\n",
       "    <tr>\n",
       "      <th>1</th>\n",
       "      <td>False</td>\n",
       "      <td>False</td>\n",
       "      <td>False</td>\n",
       "      <td>False</td>\n",
       "      <td>False</td>\n",
       "      <td>False</td>\n",
       "      <td>False</td>\n",
       "      <td>False</td>\n",
       "      <td>False</td>\n",
       "      <td>False</td>\n",
       "      <td>...</td>\n",
       "      <td>False</td>\n",
       "      <td>False</td>\n",
       "      <td>False</td>\n",
       "      <td>False</td>\n",
       "      <td>False</td>\n",
       "      <td>False</td>\n",
       "      <td>False</td>\n",
       "      <td>False</td>\n",
       "      <td>False</td>\n",
       "      <td>False</td>\n",
       "    </tr>\n",
       "    <tr>\n",
       "      <th>2</th>\n",
       "      <td>False</td>\n",
       "      <td>False</td>\n",
       "      <td>False</td>\n",
       "      <td>False</td>\n",
       "      <td>False</td>\n",
       "      <td>False</td>\n",
       "      <td>False</td>\n",
       "      <td>False</td>\n",
       "      <td>False</td>\n",
       "      <td>False</td>\n",
       "      <td>...</td>\n",
       "      <td>False</td>\n",
       "      <td>False</td>\n",
       "      <td>False</td>\n",
       "      <td>False</td>\n",
       "      <td>False</td>\n",
       "      <td>False</td>\n",
       "      <td>False</td>\n",
       "      <td>False</td>\n",
       "      <td>False</td>\n",
       "      <td>False</td>\n",
       "    </tr>\n",
       "    <tr>\n",
       "      <th>3</th>\n",
       "      <td>False</td>\n",
       "      <td>False</td>\n",
       "      <td>False</td>\n",
       "      <td>False</td>\n",
       "      <td>False</td>\n",
       "      <td>False</td>\n",
       "      <td>False</td>\n",
       "      <td>False</td>\n",
       "      <td>False</td>\n",
       "      <td>False</td>\n",
       "      <td>...</td>\n",
       "      <td>False</td>\n",
       "      <td>False</td>\n",
       "      <td>False</td>\n",
       "      <td>False</td>\n",
       "      <td>False</td>\n",
       "      <td>False</td>\n",
       "      <td>False</td>\n",
       "      <td>False</td>\n",
       "      <td>False</td>\n",
       "      <td>False</td>\n",
       "    </tr>\n",
       "    <tr>\n",
       "      <th>4</th>\n",
       "      <td>False</td>\n",
       "      <td>False</td>\n",
       "      <td>False</td>\n",
       "      <td>False</td>\n",
       "      <td>False</td>\n",
       "      <td>False</td>\n",
       "      <td>False</td>\n",
       "      <td>False</td>\n",
       "      <td>False</td>\n",
       "      <td>False</td>\n",
       "      <td>...</td>\n",
       "      <td>False</td>\n",
       "      <td>False</td>\n",
       "      <td>False</td>\n",
       "      <td>False</td>\n",
       "      <td>False</td>\n",
       "      <td>False</td>\n",
       "      <td>False</td>\n",
       "      <td>False</td>\n",
       "      <td>False</td>\n",
       "      <td>False</td>\n",
       "    </tr>\n",
       "  </tbody>\n",
       "</table>\n",
       "<p>5 rows × 22 columns</p>\n",
       "</div>"
      ],
      "text/plain": [
       "   cohort  par_ventile   tier  tier_name  par_mean  k_mean  k_rank  k_top1pc  \\\n",
       "0   False        False  False      False     False   False   False     False   \n",
       "1   False        False  False      False     False   False   False     False   \n",
       "2   False        False  False      False     False   False   False     False   \n",
       "3   False        False  False      False     False   False   False     False   \n",
       "4   False        False  False      False     False   False   False     False   \n",
       "\n",
       "   k_top5pc  k_top10pc  ...   k_q3   k_q2   k_q1  k_nowork  married  k_median  \\\n",
       "0     False      False  ...  False  False  False     False    False     False   \n",
       "1     False      False  ...  False  False  False     False    False     False   \n",
       "2     False      False  ...  False  False  False     False    False     False   \n",
       "3     False      False  ...  False  False  False     False    False     False   \n",
       "4     False      False  ...  False  False  False     False    False     False   \n",
       "\n",
       "   k_median_nozero  count  tot_count  density  \n",
       "0            False  False      False    False  \n",
       "1            False  False      False    False  \n",
       "2            False  False      False    False  \n",
       "3            False  False      False    False  \n",
       "4            False  False      False    False  \n",
       "\n",
       "[5 rows x 22 columns]"
      ]
     },
     "execution_count": 19,
     "metadata": {},
     "output_type": "execute_result"
    }
   ],
   "source": [
    "#List missing data for first five rows\n",
    "missing_data = df.isnull()\n",
    "missing_data.head(5)"
   ]
  },
  {
   "cell_type": "code",
   "execution_count": 20,
   "metadata": {},
   "outputs": [
    {
     "name": "stdout",
     "output_type": "stream",
     "text": [
      "cohort\n",
      "False    3528\n",
      "Name: cohort, dtype: int64\n",
      "\n",
      "par_ventile\n",
      "False    3528\n",
      "Name: par_ventile, dtype: int64\n",
      "\n",
      "tier\n",
      "False    3528\n",
      "Name: tier, dtype: int64\n",
      "\n",
      "tier_name\n",
      "False    3528\n",
      "Name: tier_name, dtype: int64\n",
      "\n",
      "par_mean\n",
      "False    3519\n",
      "True        9\n",
      "Name: par_mean, dtype: int64\n",
      "\n",
      "k_mean\n",
      "False    3519\n",
      "True        9\n",
      "Name: k_mean, dtype: int64\n",
      "\n",
      "k_rank\n",
      "False    3519\n",
      "True        9\n",
      "Name: k_rank, dtype: int64\n",
      "\n",
      "k_top1pc\n",
      "False    3519\n",
      "True        9\n",
      "Name: k_top1pc, dtype: int64\n",
      "\n",
      "k_top5pc\n",
      "False    3519\n",
      "True        9\n",
      "Name: k_top5pc, dtype: int64\n",
      "\n",
      "k_top10pc\n",
      "False    3519\n",
      "True        9\n",
      "Name: k_top10pc, dtype: int64\n",
      "\n",
      "k_q5\n",
      "False    3519\n",
      "True        9\n",
      "Name: k_q5, dtype: int64\n",
      "\n",
      "k_q4\n",
      "False    3519\n",
      "True        9\n",
      "Name: k_q4, dtype: int64\n",
      "\n",
      "k_q3\n",
      "False    3519\n",
      "True        9\n",
      "Name: k_q3, dtype: int64\n",
      "\n",
      "k_q2\n",
      "False    3519\n",
      "True        9\n",
      "Name: k_q2, dtype: int64\n",
      "\n",
      "k_q1\n",
      "False    3519\n",
      "True        9\n",
      "Name: k_q1, dtype: int64\n",
      "\n",
      "k_nowork\n",
      "False    3519\n",
      "True        9\n",
      "Name: k_nowork, dtype: int64\n",
      "\n",
      "married\n",
      "False    3519\n",
      "True        9\n",
      "Name: married, dtype: int64\n",
      "\n",
      "k_median\n",
      "False    3519\n",
      "True        9\n",
      "Name: k_median, dtype: int64\n",
      "\n",
      "k_median_nozero\n",
      "False    3513\n",
      "True       15\n",
      "Name: k_median_nozero, dtype: int64\n",
      "\n",
      "count\n",
      "False    3519\n",
      "True        9\n",
      "Name: count, dtype: int64\n",
      "\n",
      "tot_count\n",
      "False    3519\n",
      "True        9\n",
      "Name: tot_count, dtype: int64\n",
      "\n",
      "density\n",
      "False    3519\n",
      "True        9\n",
      "Name: density, dtype: int64\n",
      "\n"
     ]
    }
   ],
   "source": [
    "# List data with missing values\n",
    "for column in missing_data.columns.values.tolist():\n",
    "    print(column)\n",
    "    print (missing_data[column].value_counts())\n",
    "    print(\"\")   "
   ]
  },
  {
   "cell_type": "code",
   "execution_count": 24,
   "metadata": {},
   "outputs": [
    {
     "data": {
      "text/html": [
       "<div>\n",
       "<style scoped>\n",
       "    .dataframe tbody tr th:only-of-type {\n",
       "        vertical-align: middle;\n",
       "    }\n",
       "\n",
       "    .dataframe tbody tr th {\n",
       "        vertical-align: top;\n",
       "    }\n",
       "\n",
       "    .dataframe thead th {\n",
       "        text-align: right;\n",
       "    }\n",
       "</style>\n",
       "<table border=\"1\" class=\"dataframe\">\n",
       "  <thead>\n",
       "    <tr style=\"text-align: right;\">\n",
       "      <th></th>\n",
       "      <th>cohort</th>\n",
       "      <th>par_ventile</th>\n",
       "      <th>tier</th>\n",
       "      <th>tier_name</th>\n",
       "      <th>par_mean</th>\n",
       "      <th>k_mean</th>\n",
       "      <th>k_rank</th>\n",
       "      <th>k_top1pc</th>\n",
       "      <th>k_top5pc</th>\n",
       "      <th>k_top10pc</th>\n",
       "      <th>...</th>\n",
       "      <th>k_q3</th>\n",
       "      <th>k_q2</th>\n",
       "      <th>k_q1</th>\n",
       "      <th>k_nowork</th>\n",
       "      <th>married</th>\n",
       "      <th>k_median</th>\n",
       "      <th>k_median_nozero</th>\n",
       "      <th>count</th>\n",
       "      <th>tot_count</th>\n",
       "      <th>density</th>\n",
       "    </tr>\n",
       "  </thead>\n",
       "  <tbody>\n",
       "    <tr>\n",
       "      <th>0</th>\n",
       "      <td>1980</td>\n",
       "      <td>1</td>\n",
       "      <td>1</td>\n",
       "      <td>Ivy Plus</td>\n",
       "      <td>6200.0</td>\n",
       "      <td>106300.0</td>\n",
       "      <td>0.700131</td>\n",
       "      <td>0.096970</td>\n",
       "      <td>0.333333</td>\n",
       "      <td>0.442424</td>\n",
       "      <td>...</td>\n",
       "      <td>0.066667</td>\n",
       "      <td>0.078788</td>\n",
       "      <td>0.157576</td>\n",
       "      <td>0.151515</td>\n",
       "      <td>0.581818</td>\n",
       "      <td>68100.0</td>\n",
       "      <td>83800.0</td>\n",
       "      <td>165.0</td>\n",
       "      <td>17653.0</td>\n",
       "      <td>0.009347</td>\n",
       "    </tr>\n",
       "    <tr>\n",
       "      <th>1</th>\n",
       "      <td>1980</td>\n",
       "      <td>1</td>\n",
       "      <td>2</td>\n",
       "      <td>Other elite schools (public and private)</td>\n",
       "      <td>6500.0</td>\n",
       "      <td>71800.0</td>\n",
       "      <td>0.670964</td>\n",
       "      <td>0.050000</td>\n",
       "      <td>0.216667</td>\n",
       "      <td>0.324242</td>\n",
       "      <td>...</td>\n",
       "      <td>0.092424</td>\n",
       "      <td>0.107576</td>\n",
       "      <td>0.133333</td>\n",
       "      <td>0.124242</td>\n",
       "      <td>0.493939</td>\n",
       "      <td>56600.0</td>\n",
       "      <td>64600.0</td>\n",
       "      <td>660.0</td>\n",
       "      <td>60703.0</td>\n",
       "      <td>0.010873</td>\n",
       "    </tr>\n",
       "    <tr>\n",
       "      <th>2</th>\n",
       "      <td>1980</td>\n",
       "      <td>1</td>\n",
       "      <td>3</td>\n",
       "      <td>Highly selective public</td>\n",
       "      <td>7000.0</td>\n",
       "      <td>63600.0</td>\n",
       "      <td>0.649980</td>\n",
       "      <td>0.032670</td>\n",
       "      <td>0.158381</td>\n",
       "      <td>0.267756</td>\n",
       "      <td>...</td>\n",
       "      <td>0.132812</td>\n",
       "      <td>0.118608</td>\n",
       "      <td>0.117898</td>\n",
       "      <td>0.111506</td>\n",
       "      <td>0.485795</td>\n",
       "      <td>49300.0</td>\n",
       "      <td>55900.0</td>\n",
       "      <td>1408.0</td>\n",
       "      <td>126735.0</td>\n",
       "      <td>0.011110</td>\n",
       "    </tr>\n",
       "    <tr>\n",
       "      <th>3</th>\n",
       "      <td>1980</td>\n",
       "      <td>1</td>\n",
       "      <td>4</td>\n",
       "      <td>Highly selective private</td>\n",
       "      <td>6800.0</td>\n",
       "      <td>60300.0</td>\n",
       "      <td>0.625801</td>\n",
       "      <td>0.028302</td>\n",
       "      <td>0.117925</td>\n",
       "      <td>0.233491</td>\n",
       "      <td>...</td>\n",
       "      <td>0.132075</td>\n",
       "      <td>0.120283</td>\n",
       "      <td>0.141509</td>\n",
       "      <td>0.136792</td>\n",
       "      <td>0.478774</td>\n",
       "      <td>48300.0</td>\n",
       "      <td>53700.0</td>\n",
       "      <td>424.0</td>\n",
       "      <td>42920.0</td>\n",
       "      <td>0.009879</td>\n",
       "    </tr>\n",
       "    <tr>\n",
       "      <th>4</th>\n",
       "      <td>1980</td>\n",
       "      <td>1</td>\n",
       "      <td>5</td>\n",
       "      <td>Selective public</td>\n",
       "      <td>7200.0</td>\n",
       "      <td>41300.0</td>\n",
       "      <td>0.555779</td>\n",
       "      <td>0.007898</td>\n",
       "      <td>0.052871</td>\n",
       "      <td>0.113826</td>\n",
       "      <td>...</td>\n",
       "      <td>0.208976</td>\n",
       "      <td>0.173295</td>\n",
       "      <td>0.135291</td>\n",
       "      <td>0.124884</td>\n",
       "      <td>0.436629</td>\n",
       "      <td>35100.0</td>\n",
       "      <td>39700.0</td>\n",
       "      <td>10762.0</td>\n",
       "      <td>616241.0</td>\n",
       "      <td>0.017464</td>\n",
       "    </tr>\n",
       "  </tbody>\n",
       "</table>\n",
       "<p>5 rows × 22 columns</p>\n",
       "</div>"
      ],
      "text/plain": [
       "   cohort  par_ventile  tier                                 tier_name  \\\n",
       "0    1980            1     1                                  Ivy Plus   \n",
       "1    1980            1     2  Other elite schools (public and private)   \n",
       "2    1980            1     3                   Highly selective public   \n",
       "3    1980            1     4                  Highly selective private   \n",
       "4    1980            1     5                          Selective public   \n",
       "\n",
       "   par_mean    k_mean    k_rank  k_top1pc  k_top5pc  k_top10pc  ...      k_q3  \\\n",
       "0    6200.0  106300.0  0.700131  0.096970  0.333333   0.442424  ...  0.066667   \n",
       "1    6500.0   71800.0  0.670964  0.050000  0.216667   0.324242  ...  0.092424   \n",
       "2    7000.0   63600.0  0.649980  0.032670  0.158381   0.267756  ...  0.132812   \n",
       "3    6800.0   60300.0  0.625801  0.028302  0.117925   0.233491  ...  0.132075   \n",
       "4    7200.0   41300.0  0.555779  0.007898  0.052871   0.113826  ...  0.208976   \n",
       "\n",
       "       k_q2      k_q1  k_nowork   married  k_median  k_median_nozero    count  \\\n",
       "0  0.078788  0.157576  0.151515  0.581818   68100.0          83800.0    165.0   \n",
       "1  0.107576  0.133333  0.124242  0.493939   56600.0          64600.0    660.0   \n",
       "2  0.118608  0.117898  0.111506  0.485795   49300.0          55900.0   1408.0   \n",
       "3  0.120283  0.141509  0.136792  0.478774   48300.0          53700.0    424.0   \n",
       "4  0.173295  0.135291  0.124884  0.436629   35100.0          39700.0  10762.0   \n",
       "\n",
       "   tot_count   density  \n",
       "0    17653.0  0.009347  \n",
       "1    60703.0  0.010873  \n",
       "2   126735.0  0.011110  \n",
       "3    42920.0  0.009879  \n",
       "4   616241.0  0.017464  \n",
       "\n",
       "[5 rows x 22 columns]"
      ]
     },
     "execution_count": 24,
     "metadata": {},
     "output_type": "execute_result"
    }
   ],
   "source": [
    "df.head()"
   ]
  },
  {
   "cell_type": "code",
   "execution_count": null,
   "metadata": {},
   "outputs": [],
   "source": [
    "#Compute average for all data types with empty sets and replace with means."
   ]
  },
  {
   "cell_type": "code",
   "execution_count": 83,
   "metadata": {},
   "outputs": [
    {
     "name": "stdout",
     "output_type": "stream",
     "text": [
      "Average of par_mean: 160839.98294970163\n"
     ]
    }
   ],
   "source": [
    "\n",
    "avg_par_mean=df['par_mean'].astype('float').mean(axis=0)\n",
    "print(\"Average of par_mean:\", avg_par_mean)"
   ]
  },
  {
   "cell_type": "code",
   "execution_count": 101,
   "metadata": {},
   "outputs": [
    {
     "data": {
      "text/plain": [
       "0          6200.0\n",
       "1          6500.0\n",
       "2          7000.0\n",
       "3          6800.0\n",
       "4          7200.0\n",
       "5          7000.0\n",
       "6          7500.0\n",
       "7          7000.0\n",
       "8          7200.0\n",
       "9          7300.0\n",
       "10         7400.0\n",
       "11         7500.0\n",
       "12         7200.0\n",
       "13         7000.0\n",
       "14        13800.0\n",
       "15        13800.0\n",
       "16        13900.0\n",
       "17        13800.0\n",
       "18        13900.0\n",
       "19        13900.0\n",
       "20        13900.0\n",
       "21        13900.0\n",
       "22        13800.0\n",
       "23        13800.0\n",
       "24        13800.0\n",
       "25        13800.0\n",
       "26        13800.0\n",
       "27        13800.0\n",
       "28        18300.0\n",
       "29        18500.0\n",
       "          ...    \n",
       "3498     184000.0\n",
       "3499     183400.0\n",
       "3500    1546700.0\n",
       "3501     969400.0\n",
       "3502     553800.0\n",
       "3503     813000.0\n",
       "3504     515000.0\n",
       "3505     611500.0\n",
       "3506     505200.0\n",
       "3507     674000.0\n",
       "3508     463400.0\n",
       "3509     579700.0\n",
       "3510     527500.0\n",
       "3511     493100.0\n",
       "3512     529400.0\n",
       "3513     570000.0\n",
       "3514    3414800.0\n",
       "3515    2171700.0\n",
       "3516    1603000.0\n",
       "3517    1905500.0\n",
       "3518    1496500.0\n",
       "3519    1726900.0\n",
       "3520    1456300.0\n",
       "3521    1804700.0\n",
       "3522    1441100.0\n",
       "3523    1654500.0\n",
       "3524    1559500.0\n",
       "3525    1442500.0\n",
       "3526    1475100.0\n",
       "3527    1658000.0\n",
       "Name: par_mean, Length: 3528, dtype: float64"
      ]
     },
     "execution_count": 101,
     "metadata": {},
     "output_type": "execute_result"
    }
   ],
   "source": [
    "\n",
    "df[\"par_mean\"].replace(np.nan, avg_par_mean)"
   ]
  },
  {
   "cell_type": "code",
   "execution_count": 84,
   "metadata": {},
   "outputs": [
    {
     "name": "stdout",
     "output_type": "stream",
     "text": [
      "Average of k_mean: 35826.93947144075\n"
     ]
    }
   ],
   "source": [
    "avg_k_mean=df['k_mean'].astype('float').mean(axis=0)\n",
    "print(\"Average of k_mean:\", avg_k_mean)"
   ]
  },
  {
   "cell_type": "code",
   "execution_count": 102,
   "metadata": {},
   "outputs": [
    {
     "data": {
      "text/plain": [
       "0       106300.0\n",
       "1        71800.0\n",
       "2        63600.0\n",
       "3        60300.0\n",
       "4        41300.0\n",
       "5        43900.0\n",
       "6        30600.0\n",
       "7        28900.0\n",
       "8        27700.0\n",
       "9        28800.0\n",
       "10       29600.0\n",
       "11       18200.0\n",
       "12       26200.0\n",
       "13       14000.0\n",
       "14      108400.0\n",
       "15       81700.0\n",
       "16       59000.0\n",
       "17       60700.0\n",
       "18       40200.0\n",
       "19       44500.0\n",
       "20       30800.0\n",
       "21       30900.0\n",
       "22       29700.0\n",
       "23       30200.0\n",
       "24       30100.0\n",
       "25       27100.0\n",
       "26       27500.0\n",
       "27       15500.0\n",
       "28       99500.0\n",
       "29       75300.0\n",
       "          ...   \n",
       "3498     17500.0\n",
       "3499     14900.0\n",
       "3500     34900.0\n",
       "3501     26000.0\n",
       "3502     22400.0\n",
       "3503     21100.0\n",
       "3504     18100.0\n",
       "3505     17900.0\n",
       "3506     14200.0\n",
       "3507     13400.0\n",
       "3508     14200.0\n",
       "3509     16700.0\n",
       "3510     21100.0\n",
       "3511     14200.0\n",
       "3512     16300.0\n",
       "3513     13400.0\n",
       "3514     34400.0\n",
       "3515     27000.0\n",
       "3516     22200.0\n",
       "3517     20600.0\n",
       "3518     17900.0\n",
       "3519     17200.0\n",
       "3520     15100.0\n",
       "3521     12800.0\n",
       "3522     13300.0\n",
       "3523     14100.0\n",
       "3524     18600.0\n",
       "3525     13600.0\n",
       "3526     17000.0\n",
       "3527     14000.0\n",
       "Name: k_mean, Length: 3528, dtype: float64"
      ]
     },
     "execution_count": 102,
     "metadata": {},
     "output_type": "execute_result"
    }
   ],
   "source": [
    "df[\"k_mean\"].replace(np.nan, avg_k_mean)"
   ]
  },
  {
   "cell_type": "code",
   "execution_count": 86,
   "metadata": {},
   "outputs": [
    {
     "name": "stdout",
     "output_type": "stream",
     "text": [
      "Average of k_rank: 0.5610906889462963\n"
     ]
    }
   ],
   "source": [
    "avg_k_rank=df['k_rank'].astype('float').mean(axis=0)\n",
    "print(\"Average of k_rank:\", avg_k_rank)"
   ]
  },
  {
   "cell_type": "code",
   "execution_count": 103,
   "metadata": {},
   "outputs": [
    {
     "data": {
      "text/plain": [
       "0       0.700131\n",
       "1       0.670964\n",
       "2       0.649980\n",
       "3       0.625801\n",
       "4       0.555779\n",
       "5       0.567805\n",
       "6       0.481619\n",
       "7       0.448566\n",
       "8       0.450111\n",
       "9       0.465387\n",
       "10      0.467298\n",
       "11      0.362498\n",
       "12      0.438044\n",
       "13      0.301782\n",
       "14      0.740237\n",
       "15      0.684766\n",
       "16      0.638693\n",
       "17      0.666397\n",
       "18      0.555290\n",
       "19      0.575786\n",
       "20      0.485464\n",
       "21      0.486394\n",
       "22      0.461996\n",
       "23      0.478364\n",
       "24      0.480855\n",
       "25      0.432389\n",
       "26      0.450924\n",
       "27      0.319694\n",
       "28      0.707796\n",
       "29      0.683892\n",
       "          ...   \n",
       "3498    0.544961\n",
       "3499    0.463535\n",
       "3500    0.676663\n",
       "3501    0.625555\n",
       "3502    0.593491\n",
       "3503    0.590081\n",
       "3504    0.552184\n",
       "3505    0.550836\n",
       "3506    0.494679\n",
       "3507    0.464316\n",
       "3508    0.488886\n",
       "3509    0.530288\n",
       "3510    0.615715\n",
       "3511    0.495534\n",
       "3512    0.510765\n",
       "3513    0.400503\n",
       "3514    0.667621\n",
       "3515    0.623576\n",
       "3516    0.577081\n",
       "3517    0.570228\n",
       "3518    0.527492\n",
       "3519    0.519979\n",
       "3520    0.490132\n",
       "3521    0.438883\n",
       "3522    0.448069\n",
       "3523    0.458245\n",
       "3524    0.541376\n",
       "3525    0.462886\n",
       "3526    0.500465\n",
       "3527    0.386102\n",
       "Name: k_rank, Length: 3528, dtype: float64"
      ]
     },
     "execution_count": 103,
     "metadata": {},
     "output_type": "execute_result"
    }
   ],
   "source": [
    "df[\"k_rank\"].replace(np.nan, avg_k_rank)"
   ]
  },
  {
   "cell_type": "code",
   "execution_count": 31,
   "metadata": {},
   "outputs": [
    {
     "name": "stdout",
     "output_type": "stream",
     "text": [
      "Average of k_top1pc: 0.025246771475401355\n"
     ]
    }
   ],
   "source": [
    "avg_k_top1pc=df['k_top1pc'].astype('float').mean(axis=0)\n",
    "print(\"Average of k_top1pc:\", avg_k_top1pc)"
   ]
  },
  {
   "cell_type": "code",
   "execution_count": 105,
   "metadata": {},
   "outputs": [
    {
     "data": {
      "text/plain": [
       "0       0.096970\n",
       "1       0.050000\n",
       "2       0.032670\n",
       "3       0.028302\n",
       "4       0.007898\n",
       "5       0.010263\n",
       "6       0.000748\n",
       "7       0.008565\n",
       "8       0.002165\n",
       "9       0.002073\n",
       "10      0.001773\n",
       "11      0.000000\n",
       "12      0.001764\n",
       "13      0.000471\n",
       "14      0.126667\n",
       "15      0.071856\n",
       "16      0.033063\n",
       "17      0.016908\n",
       "18      0.006201\n",
       "19      0.008454\n",
       "20      0.002338\n",
       "21      0.000000\n",
       "22      0.001867\n",
       "23      0.001873\n",
       "24      0.001855\n",
       "25      0.006289\n",
       "26      0.002285\n",
       "27      0.000433\n",
       "28      0.107527\n",
       "29      0.049133\n",
       "          ...   \n",
       "3498    0.015947\n",
       "3499    0.019185\n",
       "3500    0.176063\n",
       "3501    0.078786\n",
       "3502    0.051287\n",
       "3503    0.033665\n",
       "3504    0.021526\n",
       "3505    0.018935\n",
       "3506    0.009686\n",
       "3507    0.011909\n",
       "3508    0.011988\n",
       "3509    0.015495\n",
       "3510    0.024917\n",
       "3511    0.008086\n",
       "3512    0.023037\n",
       "3513    0.020265\n",
       "3514    0.172697\n",
       "3515    0.088710\n",
       "3516    0.055582\n",
       "3517    0.035583\n",
       "3518    0.029041\n",
       "3519    0.024779\n",
       "3520    0.016822\n",
       "3521    0.015924\n",
       "3522    0.015967\n",
       "3523    0.025974\n",
       "3524    0.019608\n",
       "3525    0.018868\n",
       "3526    0.030916\n",
       "3527    0.031005\n",
       "Name: k_top1pc, Length: 3528, dtype: float64"
      ]
     },
     "execution_count": 105,
     "metadata": {},
     "output_type": "execute_result"
    }
   ],
   "source": [
    "df[\"k_top1pc\"].replace(np.nan, avg_k_top1pc)"
   ]
  },
  {
   "cell_type": "code",
   "execution_count": 87,
   "metadata": {},
   "outputs": [
    {
     "name": "stdout",
     "output_type": "stream",
     "text": [
      "Average of k_top5pc: 0.09003886685901619\n"
     ]
    }
   ],
   "source": [
    "avg_k_top5pc=df['k_top5pc'].astype('float').mean(axis=0)\n",
    "print(\"Average of k_top5pc:\", avg_k_top5pc)"
   ]
  },
  {
   "cell_type": "code",
   "execution_count": 106,
   "metadata": {},
   "outputs": [
    {
     "data": {
      "text/plain": [
       "0       0.333333\n",
       "1       0.216667\n",
       "2       0.158381\n",
       "3       0.117925\n",
       "4       0.052871\n",
       "5       0.068273\n",
       "6       0.020568\n",
       "7       0.027837\n",
       "8       0.017218\n",
       "9       0.020041\n",
       "10      0.024823\n",
       "11      0.000000\n",
       "12      0.017586\n",
       "13      0.004213\n",
       "14      0.386667\n",
       "15      0.233533\n",
       "16      0.140362\n",
       "17      0.159420\n",
       "18      0.046834\n",
       "19      0.066023\n",
       "20      0.019877\n",
       "21      0.017778\n",
       "22      0.017269\n",
       "23      0.019975\n",
       "24      0.014842\n",
       "25      0.018868\n",
       "26      0.016962\n",
       "27      0.004815\n",
       "28      0.301075\n",
       "29      0.232659\n",
       "          ...   \n",
       "3498    0.075089\n",
       "3499    0.067939\n",
       "3500    0.327325\n",
       "3501    0.224324\n",
       "3502    0.175944\n",
       "3503    0.152929\n",
       "3504    0.104612\n",
       "3505    0.104311\n",
       "3506    0.050191\n",
       "3507    0.060267\n",
       "3508    0.052188\n",
       "3509    0.068534\n",
       "3510    0.117940\n",
       "3511    0.043127\n",
       "3512    0.080128\n",
       "3513    0.064492\n",
       "3514    0.333085\n",
       "3515    0.234447\n",
       "3516    0.182458\n",
       "3517    0.152556\n",
       "3518    0.112968\n",
       "3519    0.103622\n",
       "3520    0.069159\n",
       "3521    0.052548\n",
       "3522    0.055729\n",
       "3523    0.081169\n",
       "3524    0.147059\n",
       "3525    0.075472\n",
       "3526    0.096314\n",
       "3527    0.086399\n",
       "Name: k_top5pc, Length: 3528, dtype: float64"
      ]
     },
     "execution_count": 106,
     "metadata": {},
     "output_type": "execute_result"
    }
   ],
   "source": [
    "df[\"k_top5pc\"].replace(np.nan, avg_k_top5pc)"
   ]
  },
  {
   "cell_type": "code",
   "execution_count": 90,
   "metadata": {},
   "outputs": [
    {
     "name": "stdout",
     "output_type": "stream",
     "text": [
      "Average of k_top10pc: 0.15683778037269633\n"
     ]
    }
   ],
   "source": [
    "avg_k_top10pc=df['k_top10pc'].astype('float').mean(axis=0)\n",
    "print(\"Average of k_top10pc:\", avg_k_top10pc)"
   ]
  },
  {
   "cell_type": "code",
   "execution_count": 107,
   "metadata": {},
   "outputs": [
    {
     "data": {
      "text/plain": [
       "0       0.442424\n",
       "1       0.324242\n",
       "2       0.267756\n",
       "3       0.233491\n",
       "4       0.113826\n",
       "5       0.136546\n",
       "6       0.062827\n",
       "7       0.057816\n",
       "8       0.045210\n",
       "9       0.053905\n",
       "10      0.060284\n",
       "11      0.000000\n",
       "12      0.041733\n",
       "13      0.012082\n",
       "14      0.506667\n",
       "15      0.342814\n",
       "16      0.243918\n",
       "17      0.253623\n",
       "18      0.108845\n",
       "19      0.140097\n",
       "20      0.053785\n",
       "21      0.053333\n",
       "22      0.045599\n",
       "23      0.050562\n",
       "24      0.051948\n",
       "25      0.050314\n",
       "26      0.043573\n",
       "27      0.013516\n",
       "28      0.435484\n",
       "29      0.355491\n",
       "          ...   \n",
       "3498    0.135625\n",
       "3499    0.128920\n",
       "3500    0.422350\n",
       "3501    0.324413\n",
       "3502    0.259897\n",
       "3503    0.246556\n",
       "3504    0.180569\n",
       "3505    0.181336\n",
       "3506    0.097446\n",
       "3507    0.109708\n",
       "3508    0.101019\n",
       "3509    0.147795\n",
       "3510    0.196013\n",
       "3511    0.083558\n",
       "3512    0.142829\n",
       "3513    0.123807\n",
       "3514    0.425587\n",
       "3515    0.335369\n",
       "3516    0.260319\n",
       "3517    0.242536\n",
       "3518    0.185753\n",
       "3519    0.172934\n",
       "3520    0.110280\n",
       "3521    0.101911\n",
       "3522    0.097996\n",
       "3523    0.126623\n",
       "3524    0.235294\n",
       "3525    0.094340\n",
       "3526    0.158145\n",
       "3527    0.141794\n",
       "Name: k_top10pc, Length: 3528, dtype: float64"
      ]
     },
     "execution_count": 107,
     "metadata": {},
     "output_type": "execute_result"
    }
   ],
   "source": [
    "df[\"k_top10pc\"].replace(np.nan, avg_k_top10pc)"
   ]
  },
  {
   "cell_type": "code",
   "execution_count": 91,
   "metadata": {},
   "outputs": [
    {
     "name": "stdout",
     "output_type": "stream",
     "text": [
      "Average of k_q5: 0.2755398171119407\n"
     ]
    }
   ],
   "source": [
    "avg_k_q5=df['k_q5'].astype('float').mean(axis=0)\n",
    "print(\"Average of k_q5:\", avg_k_q5)"
   ]
  },
  {
   "cell_type": "code",
   "execution_count": 38,
   "metadata": {},
   "outputs": [],
   "source": [
    "df[\"k_q5\"].replace(np.nan, avg_k_q5)"
   ]
  },
  {
   "cell_type": "code",
   "execution_count": 92,
   "metadata": {},
   "outputs": [
    {
     "name": "stdout",
     "output_type": "stream",
     "text": [
      "Average of k_q4: 0.20734367447812801\n"
     ]
    }
   ],
   "source": [
    "avg_k_q4=df['k_q4'].astype('float').mean(axis=0)\n",
    "print(\"Average of k_q4:\", avg_k_q4)"
   ]
  },
  {
   "cell_type": "code",
   "execution_count": 40,
   "metadata": {},
   "outputs": [],
   "source": [
    "df[\"k_q4\"].replace(np.nan, avg_k_q4)"
   ]
  },
  {
   "cell_type": "code",
   "execution_count": 93,
   "metadata": {},
   "outputs": [
    {
     "name": "stdout",
     "output_type": "stream",
     "text": [
      "Average of k_q3: 0.1906484859894936\n"
     ]
    }
   ],
   "source": [
    "avg_k_q3=df['k_q3'].astype('float').mean(axis=0)\n",
    "print(\"Average of k_q3:\", avg_k_q3)"
   ]
  },
  {
   "cell_type": "code",
   "execution_count": 42,
   "metadata": {},
   "outputs": [],
   "source": [
    "df[\"k_q3\"].replace(np.nan, avg_k_q3)"
   ]
  },
  {
   "cell_type": "code",
   "execution_count": 94,
   "metadata": {},
   "outputs": [
    {
     "name": "stdout",
     "output_type": "stream",
     "text": [
      "Average of k_q2: 0.18163915940821335\n"
     ]
    }
   ],
   "source": [
    "avg_k_q2=df['k_q2'].astype('float').mean(axis=0)\n",
    "print(\"Average of k_q2:\", avg_k_q2)"
   ]
  },
  {
   "cell_type": "code",
   "execution_count": 95,
   "metadata": {},
   "outputs": [],
   "source": [
    "df[\"k_q2\"].replace(np.nan, avg_k_q2)"
   ]
  },
  {
   "cell_type": "code",
   "execution_count": 96,
   "metadata": {},
   "outputs": [
    {
     "name": "stdout",
     "output_type": "stream",
     "text": [
      "Average of k_q1: 0.14482886338601905\n"
     ]
    }
   ],
   "source": [
    "avg_k_q1=df['k_q1'].astype('float').mean(axis=0)\n",
    "print(\"Average of k_q1:\", avg_k_q1)"
   ]
  },
  {
   "cell_type": "code",
   "execution_count": 97,
   "metadata": {},
   "outputs": [],
   "source": [
    "df[\"k_q1\"].replace(np.nan, avg_k_q1)"
   ]
  },
  {
   "cell_type": "code",
   "execution_count": 98,
   "metadata": {},
   "outputs": [
    {
     "name": "stdout",
     "output_type": "stream",
     "text": [
      "Average of k_nowork: 0.12981666184316754\n"
     ]
    }
   ],
   "source": [
    "avg_k_nowork=df['k_nowork'].astype('float').mean(axis=0)\n",
    "print(\"Average of k_nowork:\", avg_k_nowork)"
   ]
  },
  {
   "cell_type": "code",
   "execution_count": 49,
   "metadata": {},
   "outputs": [],
   "source": [
    "df[\"k_nowork\"].replace(np.nan, avg_k_nowork)"
   ]
  },
  {
   "cell_type": "code",
   "execution_count": 50,
   "metadata": {},
   "outputs": [
    {
     "name": "stdout",
     "output_type": "stream",
     "text": [
      "Average of married: 0.31050774768899875\n"
     ]
    }
   ],
   "source": [
    "avg_married=df['married'].astype('float').mean(axis=0)\n",
    "print(\"Average of married:\", avg_married)"
   ]
  },
  {
   "cell_type": "code",
   "execution_count": 51,
   "metadata": {},
   "outputs": [],
   "source": [
    "df[\"married\"].replace(np.nan, avg_married)"
   ]
  },
  {
   "cell_type": "code",
   "execution_count": 77,
   "metadata": {},
   "outputs": [
    {
     "name": "stdout",
     "output_type": "stream",
     "text": [
      "Average of k_median: 28896.334185848253\n"
     ]
    }
   ],
   "source": [
    "avg_k_median=df['k_median'].astype('float').mean(axis=0)\n",
    "print(\"Average of k_median:\", avg_k_median)"
   ]
  },
  {
   "cell_type": "code",
   "execution_count": 76,
   "metadata": {},
   "outputs": [],
   "source": [
    "df[\"k_median\"].replace(np.nan, avg_k_median)"
   ]
  },
  {
   "cell_type": "code",
   "execution_count": 54,
   "metadata": {},
   "outputs": [
    {
     "name": "stdout",
     "output_type": "stream",
     "text": [
      "Average of k_median_nozero: 33125.87532023911\n"
     ]
    }
   ],
   "source": [
    "avg_k_median_nozero=df['k_median_nozero'].astype('float').mean(axis=0)\n",
    "print(\"Average of k_median_nozero:\", avg_k_median_nozero)"
   ]
  },
  {
   "cell_type": "code",
   "execution_count": 55,
   "metadata": {},
   "outputs": [],
   "source": [
    "df[\"k_median_nozero\"].replace(np.nan, avg_k_median_nozero)"
   ]
  },
  {
   "cell_type": "code",
   "execution_count": 57,
   "metadata": {},
   "outputs": [
    {
     "name": "stdout",
     "output_type": "stream",
     "text": [
      "Average of count: 13809.461210571186\n"
     ]
    }
   ],
   "source": [
    "avg_count=df['count'].astype('float').mean(axis=0)\n",
    "print(\"Average of count:\", avg_count)"
   ]
  },
  {
   "cell_type": "code",
   "execution_count": 78,
   "metadata": {},
   "outputs": [],
   "source": [
    "df[\"count\"].replace(np.nan, avg_count)"
   ]
  },
  {
   "cell_type": "code",
   "execution_count": 79,
   "metadata": {},
   "outputs": [
    {
     "name": "stdout",
     "output_type": "stream",
     "text": [
      "Average of tot_count: 287104.16084114806\n"
     ]
    }
   ],
   "source": [
    "avg_tot_count=df['tot_count'].astype('float').mean(axis=0)\n",
    "print(\"Average of tot_count:\", avg_tot_count)"
   ]
  },
  {
   "cell_type": "code",
   "execution_count": 80,
   "metadata": {},
   "outputs": [],
   "source": [
    "df[\"tot_count\"].replace(np.nan, avg_tot_count)"
   ]
  },
  {
   "cell_type": "code",
   "execution_count": 81,
   "metadata": {},
   "outputs": [
    {
     "name": "stdout",
     "output_type": "stream",
     "text": [
      "Average of density: 0.04922234218375757\n"
     ]
    }
   ],
   "source": [
    "avg_density=df['density'].astype('float').mean(axis=0)\n",
    "print(\"Average of density:\", avg_density)"
   ]
  },
  {
   "cell_type": "code",
   "execution_count": 108,
   "metadata": {},
   "outputs": [
    {
     "data": {
      "text/plain": [
       "0       0.009347\n",
       "1       0.010873\n",
       "2       0.011110\n",
       "3       0.009879\n",
       "4       0.017464\n",
       "5       0.015016\n",
       "6       0.034561\n",
       "7       0.026036\n",
       "8       0.032324\n",
       "9       0.043875\n",
       "10      0.053288\n",
       "11      0.057467\n",
       "12      0.046088\n",
       "13      0.086378\n",
       "14      0.008497\n",
       "15      0.011004\n",
       "16      0.012648\n",
       "17      0.009646\n",
       "18      0.019888\n",
       "19      0.016645\n",
       "20      0.044216\n",
       "21      0.025088\n",
       "22      0.034867\n",
       "23      0.048575\n",
       "24      0.050926\n",
       "25      0.054714\n",
       "26      0.050031\n",
       "27      0.082028\n",
       "28      0.010536\n",
       "29      0.011400\n",
       "          ...   \n",
       "3498    0.029074\n",
       "3499    0.012418\n",
       "3500    0.396989\n",
       "3501    0.370159\n",
       "3502    0.158727\n",
       "3503    0.304552\n",
       "3504    0.088054\n",
       "3505    0.112784\n",
       "3506    0.028961\n",
       "3507    0.069078\n",
       "3508    0.023937\n",
       "3509    0.014082\n",
       "3510    0.008194\n",
       "3511    0.012718\n",
       "3512    0.022470\n",
       "3513    0.008850\n",
       "3514    0.153472\n",
       "3515    0.123543\n",
       "3516    0.026929\n",
       "3517    0.089209\n",
       "3518    0.013800\n",
       "3519    0.022008\n",
       "3520    0.004548\n",
       "3521    0.015655\n",
       "3522    0.003055\n",
       "3523    0.002585\n",
       "3524    0.001388\n",
       "3525    0.001817\n",
       "3526    0.003786\n",
       "3527    0.001583\n",
       "Name: density, Length: 3528, dtype: float64"
      ]
     },
     "execution_count": 108,
     "metadata": {},
     "output_type": "execute_result"
    }
   ],
   "source": [
    "df[\"density\"].replace(np.nan, avg_density)"
   ]
  },
  {
   "cell_type": "code",
   "execution_count": null,
   "metadata": {},
   "outputs": [],
   "source": []
  },
  {
   "cell_type": "code",
   "execution_count": 64,
   "metadata": {},
   "outputs": [],
   "source": [
    "%%capture\n",
    "! pip install seaborn"
   ]
  },
  {
   "cell_type": "code",
   "execution_count": 65,
   "metadata": {},
   "outputs": [],
   "source": [
    "import matplotlib.pyplot as plt\n",
    "import seaborn as sns\n",
    "%matplotlib inline "
   ]
  },
  {
   "cell_type": "code",
   "execution_count": 66,
   "metadata": {},
   "outputs": [
    {
     "name": "stdout",
     "output_type": "stream",
     "text": [
      "cohort               int64\n",
      "par_ventile          int64\n",
      "tier                 int64\n",
      "tier_name           object\n",
      "par_mean           float64\n",
      "k_mean             float64\n",
      "k_rank             float64\n",
      "k_top1pc           float64\n",
      "k_top5pc           float64\n",
      "k_top10pc          float64\n",
      "k_q5               float64\n",
      "k_q4               float64\n",
      "k_q3               float64\n",
      "k_q2               float64\n",
      "k_q1               float64\n",
      "k_nowork           float64\n",
      "married            float64\n",
      "k_median           float64\n",
      "k_median_nozero    float64\n",
      "count              float64\n",
      "tot_count          float64\n",
      "density            float64\n",
      "dtype: object\n"
     ]
    }
   ],
   "source": [
    "# list the data types for each column\n",
    "print(df.dtypes)"
   ]
  },
  {
   "cell_type": "code",
   "execution_count": 67,
   "metadata": {},
   "outputs": [
    {
     "data": {
      "text/html": [
       "<div>\n",
       "<style scoped>\n",
       "    .dataframe tbody tr th:only-of-type {\n",
       "        vertical-align: middle;\n",
       "    }\n",
       "\n",
       "    .dataframe tbody tr th {\n",
       "        vertical-align: top;\n",
       "    }\n",
       "\n",
       "    .dataframe thead th {\n",
       "        text-align: right;\n",
       "    }\n",
       "</style>\n",
       "<table border=\"1\" class=\"dataframe\">\n",
       "  <thead>\n",
       "    <tr style=\"text-align: right;\">\n",
       "      <th></th>\n",
       "      <th>cohort</th>\n",
       "      <th>par_ventile</th>\n",
       "      <th>tier</th>\n",
       "      <th>par_mean</th>\n",
       "      <th>k_mean</th>\n",
       "      <th>k_rank</th>\n",
       "      <th>k_top1pc</th>\n",
       "      <th>k_top5pc</th>\n",
       "      <th>k_top10pc</th>\n",
       "      <th>k_q5</th>\n",
       "      <th>...</th>\n",
       "      <th>k_q3</th>\n",
       "      <th>k_q2</th>\n",
       "      <th>k_q1</th>\n",
       "      <th>k_nowork</th>\n",
       "      <th>married</th>\n",
       "      <th>k_median</th>\n",
       "      <th>k_median_nozero</th>\n",
       "      <th>count</th>\n",
       "      <th>tot_count</th>\n",
       "      <th>density</th>\n",
       "    </tr>\n",
       "  </thead>\n",
       "  <tbody>\n",
       "    <tr>\n",
       "      <th>cohort</th>\n",
       "      <td>1.000000e+00</td>\n",
       "      <td>-3.322151e-18</td>\n",
       "      <td>0.000000e+00</td>\n",
       "      <td>0.033649</td>\n",
       "      <td>-0.492868</td>\n",
       "      <td>-0.075099</td>\n",
       "      <td>-0.030171</td>\n",
       "      <td>-0.057737</td>\n",
       "      <td>-0.070612</td>\n",
       "      <td>-0.089114</td>\n",
       "      <td>...</td>\n",
       "      <td>0.099685</td>\n",
       "      <td>0.212760</td>\n",
       "      <td>-0.052085</td>\n",
       "      <td>-0.045407</td>\n",
       "      <td>-0.861890</td>\n",
       "      <td>-0.538114</td>\n",
       "      <td>-0.591781</td>\n",
       "      <td>0.051117</td>\n",
       "      <td>0.059265</td>\n",
       "      <td>-0.002105</td>\n",
       "    </tr>\n",
       "    <tr>\n",
       "      <th>par_ventile</th>\n",
       "      <td>-3.322151e-18</td>\n",
       "      <td>1.000000e+00</td>\n",
       "      <td>-1.950802e-17</td>\n",
       "      <td>0.907955</td>\n",
       "      <td>0.164271</td>\n",
       "      <td>0.127967</td>\n",
       "      <td>0.216309</td>\n",
       "      <td>0.222762</td>\n",
       "      <td>0.216328</td>\n",
       "      <td>0.199527</td>\n",
       "      <td>...</td>\n",
       "      <td>-0.298901</td>\n",
       "      <td>-0.149302</td>\n",
       "      <td>0.049181</td>\n",
       "      <td>0.054249</td>\n",
       "      <td>0.096810</td>\n",
       "      <td>0.104366</td>\n",
       "      <td>0.156585</td>\n",
       "      <td>-0.096305</td>\n",
       "      <td>0.007439</td>\n",
       "      <td>0.007031</td>\n",
       "    </tr>\n",
       "    <tr>\n",
       "      <th>tier</th>\n",
       "      <td>0.000000e+00</td>\n",
       "      <td>-1.950802e-17</td>\n",
       "      <td>1.000000e+00</td>\n",
       "      <td>-0.042711</td>\n",
       "      <td>-0.642576</td>\n",
       "      <td>-0.849153</td>\n",
       "      <td>-0.668693</td>\n",
       "      <td>-0.789191</td>\n",
       "      <td>-0.824357</td>\n",
       "      <td>-0.838341</td>\n",
       "      <td>...</td>\n",
       "      <td>0.667888</td>\n",
       "      <td>0.723747</td>\n",
       "      <td>0.666850</td>\n",
       "      <td>0.639941</td>\n",
       "      <td>-0.056010</td>\n",
       "      <td>-0.684837</td>\n",
       "      <td>-0.633251</td>\n",
       "      <td>0.322240</td>\n",
       "      <td>0.381049</td>\n",
       "      <td>-0.037978</td>\n",
       "    </tr>\n",
       "    <tr>\n",
       "      <th>par_mean</th>\n",
       "      <td>3.364938e-02</td>\n",
       "      <td>9.079553e-01</td>\n",
       "      <td>-4.271087e-02</td>\n",
       "      <td>1.000000</td>\n",
       "      <td>0.173337</td>\n",
       "      <td>0.115122</td>\n",
       "      <td>0.292304</td>\n",
       "      <td>0.269733</td>\n",
       "      <td>0.246985</td>\n",
       "      <td>0.209170</td>\n",
       "      <td>...</td>\n",
       "      <td>-0.319378</td>\n",
       "      <td>-0.120360</td>\n",
       "      <td>0.085755</td>\n",
       "      <td>0.091320</td>\n",
       "      <td>0.027444</td>\n",
       "      <td>0.097478</td>\n",
       "      <td>0.156319</td>\n",
       "      <td>-0.095281</td>\n",
       "      <td>-0.013518</td>\n",
       "      <td>0.168235</td>\n",
       "    </tr>\n",
       "    <tr>\n",
       "      <th>k_mean</th>\n",
       "      <td>-4.928682e-01</td>\n",
       "      <td>1.642707e-01</td>\n",
       "      <td>-6.425757e-01</td>\n",
       "      <td>0.173337</td>\n",
       "      <td>1.000000</td>\n",
       "      <td>0.759124</td>\n",
       "      <td>0.769326</td>\n",
       "      <td>0.827082</td>\n",
       "      <td>0.824098</td>\n",
       "      <td>0.811117</td>\n",
       "      <td>...</td>\n",
       "      <td>-0.726404</td>\n",
       "      <td>-0.759897</td>\n",
       "      <td>-0.421510</td>\n",
       "      <td>-0.400298</td>\n",
       "      <td>0.537008</td>\n",
       "      <td>0.949039</td>\n",
       "      <td>0.963975</td>\n",
       "      <td>-0.250546</td>\n",
       "      <td>-0.283347</td>\n",
       "      <td>0.136615</td>\n",
       "    </tr>\n",
       "    <tr>\n",
       "      <th>k_rank</th>\n",
       "      <td>-7.509922e-02</td>\n",
       "      <td>1.279670e-01</td>\n",
       "      <td>-8.491533e-01</td>\n",
       "      <td>0.115122</td>\n",
       "      <td>0.759124</td>\n",
       "      <td>1.000000</td>\n",
       "      <td>0.674052</td>\n",
       "      <td>0.835877</td>\n",
       "      <td>0.901144</td>\n",
       "      <td>0.956792</td>\n",
       "      <td>...</td>\n",
       "      <td>-0.761551</td>\n",
       "      <td>-0.905908</td>\n",
       "      <td>-0.802212</td>\n",
       "      <td>-0.773214</td>\n",
       "      <td>0.240923</td>\n",
       "      <td>0.838886</td>\n",
       "      <td>0.774979</td>\n",
       "      <td>-0.361578</td>\n",
       "      <td>-0.405274</td>\n",
       "      <td>0.099929</td>\n",
       "    </tr>\n",
       "    <tr>\n",
       "      <th>k_top1pc</th>\n",
       "      <td>-3.017145e-02</td>\n",
       "      <td>2.163087e-01</td>\n",
       "      <td>-6.686926e-01</td>\n",
       "      <td>0.292304</td>\n",
       "      <td>0.769326</td>\n",
       "      <td>0.674052</td>\n",
       "      <td>1.000000</td>\n",
       "      <td>0.939406</td>\n",
       "      <td>0.874747</td>\n",
       "      <td>0.788958</td>\n",
       "      <td>...</td>\n",
       "      <td>-0.748069</td>\n",
       "      <td>-0.594082</td>\n",
       "      <td>-0.301699</td>\n",
       "      <td>-0.276163</td>\n",
       "      <td>0.007670</td>\n",
       "      <td>0.657985</td>\n",
       "      <td>0.680671</td>\n",
       "      <td>-0.224757</td>\n",
       "      <td>-0.260166</td>\n",
       "      <td>0.201477</td>\n",
       "    </tr>\n",
       "    <tr>\n",
       "      <th>k_top5pc</th>\n",
       "      <td>-5.773684e-02</td>\n",
       "      <td>2.227617e-01</td>\n",
       "      <td>-7.891910e-01</td>\n",
       "      <td>0.269733</td>\n",
       "      <td>0.827082</td>\n",
       "      <td>0.835877</td>\n",
       "      <td>0.939406</td>\n",
       "      <td>1.000000</td>\n",
       "      <td>0.983429</td>\n",
       "      <td>0.935683</td>\n",
       "      <td>...</td>\n",
       "      <td>-0.875848</td>\n",
       "      <td>-0.755437</td>\n",
       "      <td>-0.443561</td>\n",
       "      <td>-0.411935</td>\n",
       "      <td>0.080246</td>\n",
       "      <td>0.776075</td>\n",
       "      <td>0.781603</td>\n",
       "      <td>-0.259968</td>\n",
       "      <td>-0.303770</td>\n",
       "      <td>0.165523</td>\n",
       "    </tr>\n",
       "    <tr>\n",
       "      <th>k_top10pc</th>\n",
       "      <td>-7.061197e-02</td>\n",
       "      <td>2.163283e-01</td>\n",
       "      <td>-8.243571e-01</td>\n",
       "      <td>0.246985</td>\n",
       "      <td>0.824098</td>\n",
       "      <td>0.901144</td>\n",
       "      <td>0.874747</td>\n",
       "      <td>0.983429</td>\n",
       "      <td>1.000000</td>\n",
       "      <td>0.980300</td>\n",
       "      <td>...</td>\n",
       "      <td>-0.906031</td>\n",
       "      <td>-0.828668</td>\n",
       "      <td>-0.520487</td>\n",
       "      <td>-0.486716</td>\n",
       "      <td>0.126157</td>\n",
       "      <td>0.811763</td>\n",
       "      <td>0.804788</td>\n",
       "      <td>-0.271912</td>\n",
       "      <td>-0.315003</td>\n",
       "      <td>0.142041</td>\n",
       "    </tr>\n",
       "    <tr>\n",
       "      <th>k_q5</th>\n",
       "      <td>-8.911424e-02</td>\n",
       "      <td>1.995269e-01</td>\n",
       "      <td>-8.383414e-01</td>\n",
       "      <td>0.209170</td>\n",
       "      <td>0.811117</td>\n",
       "      <td>0.956792</td>\n",
       "      <td>0.788958</td>\n",
       "      <td>0.935683</td>\n",
       "      <td>0.980300</td>\n",
       "      <td>1.000000</td>\n",
       "      <td>...</td>\n",
       "      <td>-0.898382</td>\n",
       "      <td>-0.897618</td>\n",
       "      <td>-0.612777</td>\n",
       "      <td>-0.577920</td>\n",
       "      <td>0.192618</td>\n",
       "      <td>0.840763</td>\n",
       "      <td>0.816523</td>\n",
       "      <td>-0.285337</td>\n",
       "      <td>-0.325740</td>\n",
       "      <td>0.113421</td>\n",
       "    </tr>\n",
       "    <tr>\n",
       "      <th>k_q4</th>\n",
       "      <td>-3.406637e-02</td>\n",
       "      <td>-1.787985e-01</td>\n",
       "      <td>5.608539e-02</td>\n",
       "      <td>-0.279359</td>\n",
       "      <td>-0.202734</td>\n",
       "      <td>0.104101</td>\n",
       "      <td>-0.502723</td>\n",
       "      <td>-0.415330</td>\n",
       "      <td>-0.316972</td>\n",
       "      <td>-0.163850</td>\n",
       "      <td>...</td>\n",
       "      <td>0.353245</td>\n",
       "      <td>-0.131553</td>\n",
       "      <td>-0.476656</td>\n",
       "      <td>-0.486253</td>\n",
       "      <td>0.283400</td>\n",
       "      <td>-0.015231</td>\n",
       "      <td>-0.117875</td>\n",
       "      <td>-0.102853</td>\n",
       "      <td>-0.077661</td>\n",
       "      <td>-0.114478</td>\n",
       "    </tr>\n",
       "    <tr>\n",
       "      <th>k_q3</th>\n",
       "      <td>9.968461e-02</td>\n",
       "      <td>-2.989012e-01</td>\n",
       "      <td>6.678883e-01</td>\n",
       "      <td>-0.319378</td>\n",
       "      <td>-0.726404</td>\n",
       "      <td>-0.761551</td>\n",
       "      <td>-0.748069</td>\n",
       "      <td>-0.875848</td>\n",
       "      <td>-0.906031</td>\n",
       "      <td>-0.898382</td>\n",
       "      <td>...</td>\n",
       "      <td>1.000000</td>\n",
       "      <td>0.799278</td>\n",
       "      <td>0.256159</td>\n",
       "      <td>0.215390</td>\n",
       "      <td>-0.154536</td>\n",
       "      <td>-0.705113</td>\n",
       "      <td>-0.741259</td>\n",
       "      <td>0.092488</td>\n",
       "      <td>0.103694</td>\n",
       "      <td>-0.073134</td>\n",
       "    </tr>\n",
       "    <tr>\n",
       "      <th>k_q2</th>\n",
       "      <td>2.127604e-01</td>\n",
       "      <td>-1.493015e-01</td>\n",
       "      <td>7.237465e-01</td>\n",
       "      <td>-0.120360</td>\n",
       "      <td>-0.759897</td>\n",
       "      <td>-0.905908</td>\n",
       "      <td>-0.594082</td>\n",
       "      <td>-0.755437</td>\n",
       "      <td>-0.828668</td>\n",
       "      <td>-0.897618</td>\n",
       "      <td>...</td>\n",
       "      <td>0.799278</td>\n",
       "      <td>1.000000</td>\n",
       "      <td>0.565545</td>\n",
       "      <td>0.527932</td>\n",
       "      <td>-0.377684</td>\n",
       "      <td>-0.837981</td>\n",
       "      <td>-0.815661</td>\n",
       "      <td>0.171738</td>\n",
       "      <td>0.180118</td>\n",
       "      <td>-0.059019</td>\n",
       "    </tr>\n",
       "    <tr>\n",
       "      <th>k_q1</th>\n",
       "      <td>-5.208478e-02</td>\n",
       "      <td>4.918104e-02</td>\n",
       "      <td>6.668497e-01</td>\n",
       "      <td>0.085755</td>\n",
       "      <td>-0.421510</td>\n",
       "      <td>-0.802212</td>\n",
       "      <td>-0.301699</td>\n",
       "      <td>-0.443561</td>\n",
       "      <td>-0.520487</td>\n",
       "      <td>-0.612777</td>\n",
       "      <td>...</td>\n",
       "      <td>0.256159</td>\n",
       "      <td>0.565545</td>\n",
       "      <td>1.000000</td>\n",
       "      <td>0.995032</td>\n",
       "      <td>-0.158048</td>\n",
       "      <td>-0.563068</td>\n",
       "      <td>-0.427751</td>\n",
       "      <td>0.491746</td>\n",
       "      <td>0.550595</td>\n",
       "      <td>-0.067629</td>\n",
       "    </tr>\n",
       "    <tr>\n",
       "      <th>k_nowork</th>\n",
       "      <td>-4.540735e-02</td>\n",
       "      <td>5.424910e-02</td>\n",
       "      <td>6.399410e-01</td>\n",
       "      <td>0.091320</td>\n",
       "      <td>-0.400298</td>\n",
       "      <td>-0.773214</td>\n",
       "      <td>-0.276163</td>\n",
       "      <td>-0.411935</td>\n",
       "      <td>-0.486716</td>\n",
       "      <td>-0.577920</td>\n",
       "      <td>...</td>\n",
       "      <td>0.215390</td>\n",
       "      <td>0.527932</td>\n",
       "      <td>0.995032</td>\n",
       "      <td>1.000000</td>\n",
       "      <td>-0.163021</td>\n",
       "      <td>-0.545561</td>\n",
       "      <td>-0.407804</td>\n",
       "      <td>0.502435</td>\n",
       "      <td>0.562449</td>\n",
       "      <td>-0.068463</td>\n",
       "    </tr>\n",
       "    <tr>\n",
       "      <th>married</th>\n",
       "      <td>-8.618901e-01</td>\n",
       "      <td>9.680978e-02</td>\n",
       "      <td>-5.600999e-02</td>\n",
       "      <td>0.027444</td>\n",
       "      <td>0.537008</td>\n",
       "      <td>0.240923</td>\n",
       "      <td>0.007670</td>\n",
       "      <td>0.080246</td>\n",
       "      <td>0.126157</td>\n",
       "      <td>0.192618</td>\n",
       "      <td>...</td>\n",
       "      <td>-0.154536</td>\n",
       "      <td>-0.377684</td>\n",
       "      <td>-0.158048</td>\n",
       "      <td>-0.163021</td>\n",
       "      <td>1.000000</td>\n",
       "      <td>0.619787</td>\n",
       "      <td>0.638977</td>\n",
       "      <td>-0.094071</td>\n",
       "      <td>-0.104743</td>\n",
       "      <td>0.043227</td>\n",
       "    </tr>\n",
       "    <tr>\n",
       "      <th>k_median</th>\n",
       "      <td>-5.381138e-01</td>\n",
       "      <td>1.043664e-01</td>\n",
       "      <td>-6.848374e-01</td>\n",
       "      <td>0.097478</td>\n",
       "      <td>0.949039</td>\n",
       "      <td>0.838886</td>\n",
       "      <td>0.657985</td>\n",
       "      <td>0.776075</td>\n",
       "      <td>0.811763</td>\n",
       "      <td>0.840763</td>\n",
       "      <td>...</td>\n",
       "      <td>-0.705113</td>\n",
       "      <td>-0.837981</td>\n",
       "      <td>-0.563068</td>\n",
       "      <td>-0.545561</td>\n",
       "      <td>0.619787</td>\n",
       "      <td>1.000000</td>\n",
       "      <td>0.983562</td>\n",
       "      <td>-0.288028</td>\n",
       "      <td>-0.344431</td>\n",
       "      <td>0.127733</td>\n",
       "    </tr>\n",
       "    <tr>\n",
       "      <th>k_median_nozero</th>\n",
       "      <td>-5.917810e-01</td>\n",
       "      <td>1.565850e-01</td>\n",
       "      <td>-6.332514e-01</td>\n",
       "      <td>0.156319</td>\n",
       "      <td>0.963975</td>\n",
       "      <td>0.774979</td>\n",
       "      <td>0.680671</td>\n",
       "      <td>0.781603</td>\n",
       "      <td>0.804788</td>\n",
       "      <td>0.816523</td>\n",
       "      <td>...</td>\n",
       "      <td>-0.741259</td>\n",
       "      <td>-0.815661</td>\n",
       "      <td>-0.427751</td>\n",
       "      <td>-0.407804</td>\n",
       "      <td>0.638977</td>\n",
       "      <td>0.983562</td>\n",
       "      <td>1.000000</td>\n",
       "      <td>-0.245663</td>\n",
       "      <td>-0.276447</td>\n",
       "      <td>0.109476</td>\n",
       "    </tr>\n",
       "    <tr>\n",
       "      <th>count</th>\n",
       "      <td>5.111684e-02</td>\n",
       "      <td>-9.630536e-02</td>\n",
       "      <td>3.222399e-01</td>\n",
       "      <td>-0.095281</td>\n",
       "      <td>-0.250546</td>\n",
       "      <td>-0.361578</td>\n",
       "      <td>-0.224757</td>\n",
       "      <td>-0.259968</td>\n",
       "      <td>-0.271912</td>\n",
       "      <td>-0.285337</td>\n",
       "      <td>...</td>\n",
       "      <td>0.092488</td>\n",
       "      <td>0.171738</td>\n",
       "      <td>0.491746</td>\n",
       "      <td>0.502435</td>\n",
       "      <td>-0.094071</td>\n",
       "      <td>-0.288028</td>\n",
       "      <td>-0.245663</td>\n",
       "      <td>1.000000</td>\n",
       "      <td>0.856173</td>\n",
       "      <td>0.202186</td>\n",
       "    </tr>\n",
       "    <tr>\n",
       "      <th>tot_count</th>\n",
       "      <td>5.926494e-02</td>\n",
       "      <td>7.439401e-03</td>\n",
       "      <td>3.810488e-01</td>\n",
       "      <td>-0.013518</td>\n",
       "      <td>-0.283347</td>\n",
       "      <td>-0.405274</td>\n",
       "      <td>-0.260166</td>\n",
       "      <td>-0.303770</td>\n",
       "      <td>-0.315003</td>\n",
       "      <td>-0.325740</td>\n",
       "      <td>...</td>\n",
       "      <td>0.103694</td>\n",
       "      <td>0.180118</td>\n",
       "      <td>0.550595</td>\n",
       "      <td>0.562449</td>\n",
       "      <td>-0.104743</td>\n",
       "      <td>-0.344431</td>\n",
       "      <td>-0.276447</td>\n",
       "      <td>0.856173</td>\n",
       "      <td>1.000000</td>\n",
       "      <td>-0.019733</td>\n",
       "    </tr>\n",
       "    <tr>\n",
       "      <th>density</th>\n",
       "      <td>-2.104891e-03</td>\n",
       "      <td>7.031403e-03</td>\n",
       "      <td>-3.797788e-02</td>\n",
       "      <td>0.168235</td>\n",
       "      <td>0.136615</td>\n",
       "      <td>0.099929</td>\n",
       "      <td>0.201477</td>\n",
       "      <td>0.165523</td>\n",
       "      <td>0.142041</td>\n",
       "      <td>0.113421</td>\n",
       "      <td>...</td>\n",
       "      <td>-0.073134</td>\n",
       "      <td>-0.059019</td>\n",
       "      <td>-0.067629</td>\n",
       "      <td>-0.068463</td>\n",
       "      <td>0.043227</td>\n",
       "      <td>0.127733</td>\n",
       "      <td>0.109476</td>\n",
       "      <td>0.202186</td>\n",
       "      <td>-0.019733</td>\n",
       "      <td>1.000000</td>\n",
       "    </tr>\n",
       "  </tbody>\n",
       "</table>\n",
       "<p>21 rows × 21 columns</p>\n",
       "</div>"
      ],
      "text/plain": [
       "                       cohort   par_ventile          tier  par_mean    k_mean  \\\n",
       "cohort           1.000000e+00 -3.322151e-18  0.000000e+00  0.033649 -0.492868   \n",
       "par_ventile     -3.322151e-18  1.000000e+00 -1.950802e-17  0.907955  0.164271   \n",
       "tier             0.000000e+00 -1.950802e-17  1.000000e+00 -0.042711 -0.642576   \n",
       "par_mean         3.364938e-02  9.079553e-01 -4.271087e-02  1.000000  0.173337   \n",
       "k_mean          -4.928682e-01  1.642707e-01 -6.425757e-01  0.173337  1.000000   \n",
       "k_rank          -7.509922e-02  1.279670e-01 -8.491533e-01  0.115122  0.759124   \n",
       "k_top1pc        -3.017145e-02  2.163087e-01 -6.686926e-01  0.292304  0.769326   \n",
       "k_top5pc        -5.773684e-02  2.227617e-01 -7.891910e-01  0.269733  0.827082   \n",
       "k_top10pc       -7.061197e-02  2.163283e-01 -8.243571e-01  0.246985  0.824098   \n",
       "k_q5            -8.911424e-02  1.995269e-01 -8.383414e-01  0.209170  0.811117   \n",
       "k_q4            -3.406637e-02 -1.787985e-01  5.608539e-02 -0.279359 -0.202734   \n",
       "k_q3             9.968461e-02 -2.989012e-01  6.678883e-01 -0.319378 -0.726404   \n",
       "k_q2             2.127604e-01 -1.493015e-01  7.237465e-01 -0.120360 -0.759897   \n",
       "k_q1            -5.208478e-02  4.918104e-02  6.668497e-01  0.085755 -0.421510   \n",
       "k_nowork        -4.540735e-02  5.424910e-02  6.399410e-01  0.091320 -0.400298   \n",
       "married         -8.618901e-01  9.680978e-02 -5.600999e-02  0.027444  0.537008   \n",
       "k_median        -5.381138e-01  1.043664e-01 -6.848374e-01  0.097478  0.949039   \n",
       "k_median_nozero -5.917810e-01  1.565850e-01 -6.332514e-01  0.156319  0.963975   \n",
       "count            5.111684e-02 -9.630536e-02  3.222399e-01 -0.095281 -0.250546   \n",
       "tot_count        5.926494e-02  7.439401e-03  3.810488e-01 -0.013518 -0.283347   \n",
       "density         -2.104891e-03  7.031403e-03 -3.797788e-02  0.168235  0.136615   \n",
       "\n",
       "                   k_rank  k_top1pc  k_top5pc  k_top10pc      k_q5  ...  \\\n",
       "cohort          -0.075099 -0.030171 -0.057737  -0.070612 -0.089114  ...   \n",
       "par_ventile      0.127967  0.216309  0.222762   0.216328  0.199527  ...   \n",
       "tier            -0.849153 -0.668693 -0.789191  -0.824357 -0.838341  ...   \n",
       "par_mean         0.115122  0.292304  0.269733   0.246985  0.209170  ...   \n",
       "k_mean           0.759124  0.769326  0.827082   0.824098  0.811117  ...   \n",
       "k_rank           1.000000  0.674052  0.835877   0.901144  0.956792  ...   \n",
       "k_top1pc         0.674052  1.000000  0.939406   0.874747  0.788958  ...   \n",
       "k_top5pc         0.835877  0.939406  1.000000   0.983429  0.935683  ...   \n",
       "k_top10pc        0.901144  0.874747  0.983429   1.000000  0.980300  ...   \n",
       "k_q5             0.956792  0.788958  0.935683   0.980300  1.000000  ...   \n",
       "k_q4             0.104101 -0.502723 -0.415330  -0.316972 -0.163850  ...   \n",
       "k_q3            -0.761551 -0.748069 -0.875848  -0.906031 -0.898382  ...   \n",
       "k_q2            -0.905908 -0.594082 -0.755437  -0.828668 -0.897618  ...   \n",
       "k_q1            -0.802212 -0.301699 -0.443561  -0.520487 -0.612777  ...   \n",
       "k_nowork        -0.773214 -0.276163 -0.411935  -0.486716 -0.577920  ...   \n",
       "married          0.240923  0.007670  0.080246   0.126157  0.192618  ...   \n",
       "k_median         0.838886  0.657985  0.776075   0.811763  0.840763  ...   \n",
       "k_median_nozero  0.774979  0.680671  0.781603   0.804788  0.816523  ...   \n",
       "count           -0.361578 -0.224757 -0.259968  -0.271912 -0.285337  ...   \n",
       "tot_count       -0.405274 -0.260166 -0.303770  -0.315003 -0.325740  ...   \n",
       "density          0.099929  0.201477  0.165523   0.142041  0.113421  ...   \n",
       "\n",
       "                     k_q3      k_q2      k_q1  k_nowork   married  k_median  \\\n",
       "cohort           0.099685  0.212760 -0.052085 -0.045407 -0.861890 -0.538114   \n",
       "par_ventile     -0.298901 -0.149302  0.049181  0.054249  0.096810  0.104366   \n",
       "tier             0.667888  0.723747  0.666850  0.639941 -0.056010 -0.684837   \n",
       "par_mean        -0.319378 -0.120360  0.085755  0.091320  0.027444  0.097478   \n",
       "k_mean          -0.726404 -0.759897 -0.421510 -0.400298  0.537008  0.949039   \n",
       "k_rank          -0.761551 -0.905908 -0.802212 -0.773214  0.240923  0.838886   \n",
       "k_top1pc        -0.748069 -0.594082 -0.301699 -0.276163  0.007670  0.657985   \n",
       "k_top5pc        -0.875848 -0.755437 -0.443561 -0.411935  0.080246  0.776075   \n",
       "k_top10pc       -0.906031 -0.828668 -0.520487 -0.486716  0.126157  0.811763   \n",
       "k_q5            -0.898382 -0.897618 -0.612777 -0.577920  0.192618  0.840763   \n",
       "k_q4             0.353245 -0.131553 -0.476656 -0.486253  0.283400 -0.015231   \n",
       "k_q3             1.000000  0.799278  0.256159  0.215390 -0.154536 -0.705113   \n",
       "k_q2             0.799278  1.000000  0.565545  0.527932 -0.377684 -0.837981   \n",
       "k_q1             0.256159  0.565545  1.000000  0.995032 -0.158048 -0.563068   \n",
       "k_nowork         0.215390  0.527932  0.995032  1.000000 -0.163021 -0.545561   \n",
       "married         -0.154536 -0.377684 -0.158048 -0.163021  1.000000  0.619787   \n",
       "k_median        -0.705113 -0.837981 -0.563068 -0.545561  0.619787  1.000000   \n",
       "k_median_nozero -0.741259 -0.815661 -0.427751 -0.407804  0.638977  0.983562   \n",
       "count            0.092488  0.171738  0.491746  0.502435 -0.094071 -0.288028   \n",
       "tot_count        0.103694  0.180118  0.550595  0.562449 -0.104743 -0.344431   \n",
       "density         -0.073134 -0.059019 -0.067629 -0.068463  0.043227  0.127733   \n",
       "\n",
       "                 k_median_nozero     count  tot_count   density  \n",
       "cohort                 -0.591781  0.051117   0.059265 -0.002105  \n",
       "par_ventile             0.156585 -0.096305   0.007439  0.007031  \n",
       "tier                   -0.633251  0.322240   0.381049 -0.037978  \n",
       "par_mean                0.156319 -0.095281  -0.013518  0.168235  \n",
       "k_mean                  0.963975 -0.250546  -0.283347  0.136615  \n",
       "k_rank                  0.774979 -0.361578  -0.405274  0.099929  \n",
       "k_top1pc                0.680671 -0.224757  -0.260166  0.201477  \n",
       "k_top5pc                0.781603 -0.259968  -0.303770  0.165523  \n",
       "k_top10pc               0.804788 -0.271912  -0.315003  0.142041  \n",
       "k_q5                    0.816523 -0.285337  -0.325740  0.113421  \n",
       "k_q4                   -0.117875 -0.102853  -0.077661 -0.114478  \n",
       "k_q3                   -0.741259  0.092488   0.103694 -0.073134  \n",
       "k_q2                   -0.815661  0.171738   0.180118 -0.059019  \n",
       "k_q1                   -0.427751  0.491746   0.550595 -0.067629  \n",
       "k_nowork               -0.407804  0.502435   0.562449 -0.068463  \n",
       "married                 0.638977 -0.094071  -0.104743  0.043227  \n",
       "k_median                0.983562 -0.288028  -0.344431  0.127733  \n",
       "k_median_nozero         1.000000 -0.245663  -0.276447  0.109476  \n",
       "count                  -0.245663  1.000000   0.856173  0.202186  \n",
       "tot_count              -0.276447  0.856173   1.000000 -0.019733  \n",
       "density                 0.109476  0.202186  -0.019733  1.000000  \n",
       "\n",
       "[21 rows x 21 columns]"
      ]
     },
     "execution_count": 67,
     "metadata": {},
     "output_type": "execute_result"
    }
   ],
   "source": [
    "df.corr()"
   ]
  },
  {
   "cell_type": "code",
   "execution_count": 68,
   "metadata": {},
   "outputs": [
    {
     "data": {
      "text/html": [
       "<div>\n",
       "<style scoped>\n",
       "    .dataframe tbody tr th:only-of-type {\n",
       "        vertical-align: middle;\n",
       "    }\n",
       "\n",
       "    .dataframe tbody tr th {\n",
       "        vertical-align: top;\n",
       "    }\n",
       "\n",
       "    .dataframe thead th {\n",
       "        text-align: right;\n",
       "    }\n",
       "</style>\n",
       "<table border=\"1\" class=\"dataframe\">\n",
       "  <thead>\n",
       "    <tr style=\"text-align: right;\">\n",
       "      <th></th>\n",
       "      <th>par_ventile</th>\n",
       "      <th>tier</th>\n",
       "      <th>par_mean</th>\n",
       "      <th>k_mean</th>\n",
       "      <th>k_top1pc</th>\n",
       "      <th>k_top5pc</th>\n",
       "      <th>k_top10pc</th>\n",
       "    </tr>\n",
       "  </thead>\n",
       "  <tbody>\n",
       "    <tr>\n",
       "      <th>par_ventile</th>\n",
       "      <td>1.000000e+00</td>\n",
       "      <td>-1.950802e-17</td>\n",
       "      <td>0.907955</td>\n",
       "      <td>0.164271</td>\n",
       "      <td>0.216309</td>\n",
       "      <td>0.222762</td>\n",
       "      <td>0.216328</td>\n",
       "    </tr>\n",
       "    <tr>\n",
       "      <th>tier</th>\n",
       "      <td>-1.950802e-17</td>\n",
       "      <td>1.000000e+00</td>\n",
       "      <td>-0.042711</td>\n",
       "      <td>-0.642576</td>\n",
       "      <td>-0.668693</td>\n",
       "      <td>-0.789191</td>\n",
       "      <td>-0.824357</td>\n",
       "    </tr>\n",
       "    <tr>\n",
       "      <th>par_mean</th>\n",
       "      <td>9.079553e-01</td>\n",
       "      <td>-4.271087e-02</td>\n",
       "      <td>1.000000</td>\n",
       "      <td>0.173337</td>\n",
       "      <td>0.292304</td>\n",
       "      <td>0.269733</td>\n",
       "      <td>0.246985</td>\n",
       "    </tr>\n",
       "    <tr>\n",
       "      <th>k_mean</th>\n",
       "      <td>1.642707e-01</td>\n",
       "      <td>-6.425757e-01</td>\n",
       "      <td>0.173337</td>\n",
       "      <td>1.000000</td>\n",
       "      <td>0.769326</td>\n",
       "      <td>0.827082</td>\n",
       "      <td>0.824098</td>\n",
       "    </tr>\n",
       "    <tr>\n",
       "      <th>k_top1pc</th>\n",
       "      <td>2.163087e-01</td>\n",
       "      <td>-6.686926e-01</td>\n",
       "      <td>0.292304</td>\n",
       "      <td>0.769326</td>\n",
       "      <td>1.000000</td>\n",
       "      <td>0.939406</td>\n",
       "      <td>0.874747</td>\n",
       "    </tr>\n",
       "    <tr>\n",
       "      <th>k_top5pc</th>\n",
       "      <td>2.227617e-01</td>\n",
       "      <td>-7.891910e-01</td>\n",
       "      <td>0.269733</td>\n",
       "      <td>0.827082</td>\n",
       "      <td>0.939406</td>\n",
       "      <td>1.000000</td>\n",
       "      <td>0.983429</td>\n",
       "    </tr>\n",
       "    <tr>\n",
       "      <th>k_top10pc</th>\n",
       "      <td>2.163283e-01</td>\n",
       "      <td>-8.243571e-01</td>\n",
       "      <td>0.246985</td>\n",
       "      <td>0.824098</td>\n",
       "      <td>0.874747</td>\n",
       "      <td>0.983429</td>\n",
       "      <td>1.000000</td>\n",
       "    </tr>\n",
       "  </tbody>\n",
       "</table>\n",
       "</div>"
      ],
      "text/plain": [
       "              par_ventile          tier  par_mean    k_mean  k_top1pc  \\\n",
       "par_ventile  1.000000e+00 -1.950802e-17  0.907955  0.164271  0.216309   \n",
       "tier        -1.950802e-17  1.000000e+00 -0.042711 -0.642576 -0.668693   \n",
       "par_mean     9.079553e-01 -4.271087e-02  1.000000  0.173337  0.292304   \n",
       "k_mean       1.642707e-01 -6.425757e-01  0.173337  1.000000  0.769326   \n",
       "k_top1pc     2.163087e-01 -6.686926e-01  0.292304  0.769326  1.000000   \n",
       "k_top5pc     2.227617e-01 -7.891910e-01  0.269733  0.827082  0.939406   \n",
       "k_top10pc    2.163283e-01 -8.243571e-01  0.246985  0.824098  0.874747   \n",
       "\n",
       "             k_top5pc  k_top10pc  \n",
       "par_ventile  0.222762   0.216328  \n",
       "tier        -0.789191  -0.824357  \n",
       "par_mean     0.269733   0.246985  \n",
       "k_mean       0.827082   0.824098  \n",
       "k_top1pc     0.939406   0.874747  \n",
       "k_top5pc     1.000000   0.983429  \n",
       "k_top10pc    0.983429   1.000000  "
      ]
     },
     "execution_count": 68,
     "metadata": {},
     "output_type": "execute_result"
    }
   ],
   "source": [
    "import pandas as pd\n",
    "import numpy as np\n",
    "\n",
    "df[['par_ventile', 'tier', 'par_mean', 'k_mean', 'k_top1pc','k_top5pc','k_top10pc']].corr()\n"
   ]
  },
  {
   "cell_type": "code",
   "execution_count": 69,
   "metadata": {},
   "outputs": [
    {
     "data": {
      "text/plain": [
       "(0, 217309.810425994)"
      ]
     },
     "execution_count": 69,
     "metadata": {},
     "output_type": "execute_result"
    },
    {
     "data": {
      "image/png": "[encoded data removed]",
      "text/plain": [
       "<Figure size 432x288 with 1 Axes>"
      ]
     },
     "metadata": {
      "needs_background": "light"
     },
     "output_type": "display_data"
    }
   ],
   "source": [
    "# Tier as potential predictor variable of kids mean income\n",
    "sns.regplot(x=\"tier\", y=\"k_mean\", data=df)\n",
    "plt.ylim(0,)"
   ]
  },
  {
   "cell_type": "code",
   "execution_count": 70,
   "metadata": {},
   "outputs": [
    {
     "data": {
      "text/plain": [
       "(0, 217309.810425994)"
      ]
     },
     "execution_count": 70,
     "metadata": {},
     "output_type": "execute_result"
    },
    {
     "data": {
      "image/png": "[encoded data removed]",
      "text/plain": [
       "<Figure size 432x288 with 1 Axes>"
      ]
     },
     "metadata": {
      "needs_background": "light"
     },
     "output_type": "display_data"
    }
   ],
   "source": [
    "# Parents mean income as potential predictor variable of kids mean income\n",
    "sns.regplot(x=\"par_mean\", y=\"k_mean\", data=df)\n",
    "plt.ylim(0,)"
   ]
  },
  {
   "cell_type": "code",
   "execution_count": 72,
   "metadata": {},
   "outputs": [
    {
     "data": {
      "text/plain": [
       "<matplotlib.axes._subplots.AxesSubplot at 0x1a22152278>"
      ]
     },
     "execution_count": 72,
     "metadata": {},
     "output_type": "execute_result"
    },
    {
     "data": {
      "image/png": "[encoded data removed]",
      "text/plain": [
       "<Figure size 432x288 with 1 Axes>"
      ]
     },
     "metadata": {
      "needs_background": "light"
     },
     "output_type": "display_data"
    }
   ],
   "source": [
    "#Tier of college comparied to kids mean income\n",
    "sns.boxplot(x=\"tier\", y=\"k_mean\", data=df)"
   ]
  },
  {
   "cell_type": "code",
   "execution_count": null,
   "metadata": {},
   "outputs": [],
   "source": []
  },
  {
   "cell_type": "code",
   "execution_count": 73,
   "metadata": {},
   "outputs": [],
   "source": [
    "from scipy import stats "
   ]
  },
  {
   "cell_type": "code",
   "execution_count": 104,
   "metadata": {
    "scrolled": true
   },
   "outputs": [
    {
     "name": "stdout",
     "output_type": "stream",
     "text": [
      "The Pearson Correlation Coefficient is 0.17333673208034112  with a P-value of P = 3.373225035911398e-25\n"
     ]
    }
   ],
   "source": [
    "pearson_coef, p_value = stats.pearsonr(df['par_mean'], df['k_mean'])\n",
    "print(\"The Pearson Correlation Coefficient is\", pearson_coef, \" with a P-value of P =\", p_value) "
   ]
  },
  {
   "cell_type": "code",
   "execution_count": 110,
   "metadata": {},
   "outputs": [
    {
     "name": "stdout",
     "output_type": "stream",
     "text": [
      "The Pearson Correlation Coefficient is -0.641685967948407  with a P-value of P = 0.0\n"
     ]
    }
   ],
   "source": [
    "pearson_coef, p_value = stats.pearsonr(df['tier'], df['k_mean'])\n",
    "print(\"The Pearson Correlation Coefficient is\", pearson_coef, \" with a P-value of P =\", p_value) "
   ]
  },
  {
   "cell_type": "code",
   "execution_count": 111,
   "metadata": {},
   "outputs": [],
   "source": [
    "#Regression modeling\n",
    "from sklearn.linear_model import LinearRegression"
   ]
  },
  {
   "cell_type": "code",
   "execution_count": 112,
   "metadata": {},
   "outputs": [
    {
     "data": {
      "text/plain": [
       "LinearRegression(copy_X=True, fit_intercept=True, n_jobs=None,\n",
       "         normalize=False)"
      ]
     },
     "execution_count": 112,
     "metadata": {},
     "output_type": "execute_result"
    }
   ],
   "source": [
    "#Linear regression\n",
    "lm = LinearRegression()\n",
    "lm"
   ]
  },
  {
   "cell_type": "code",
   "execution_count": 113,
   "metadata": {},
   "outputs": [],
   "source": [
    "X = df[['tier']]\n",
    "Y = df['k_mean']"
   ]
  },
  {
   "cell_type": "code",
   "execution_count": 114,
   "metadata": {},
   "outputs": [
    {
     "data": {
      "text/plain": [
       "LinearRegression(copy_X=True, fit_intercept=True, n_jobs=None,\n",
       "         normalize=False)"
      ]
     },
     "execution_count": 114,
     "metadata": {},
     "output_type": "execute_result"
    }
   ],
   "source": [
    "lm.fit(X,Y)"
   ]
  },
  {
   "cell_type": "code",
   "execution_count": 115,
   "metadata": {},
   "outputs": [],
   "source": [
    "Yhat=lm.predict(X)"
   ]
  },
  {
   "cell_type": "code",
   "execution_count": 116,
   "metadata": {},
   "outputs": [
    {
     "data": {
      "text/plain": [
       "61655.5095616842"
      ]
     },
     "execution_count": 116,
     "metadata": {},
     "output_type": "execute_result"
    }
   ],
   "source": [
    "lm.intercept_"
   ]
  },
  {
   "cell_type": "code",
   "execution_count": 117,
   "metadata": {},
   "outputs": [
    {
     "data": {
      "text/plain": [
       "array([-3443.80934537])"
      ]
     },
     "execution_count": 117,
     "metadata": {},
     "output_type": "execute_result"
    }
   ],
   "source": [
    "lm.coef_"
   ]
  },
  {
   "cell_type": "code",
   "execution_count": 123,
   "metadata": {},
   "outputs": [],
   "source": [
    "# import the visualization package: seaborn\n",
    "import seaborn as sns\n",
    "%matplotlib inline "
   ]
  },
  {
   "cell_type": "code",
   "execution_count": 124,
   "metadata": {},
   "outputs": [
    {
     "data": {
      "text/plain": [
       "(0, 3585557.4041828746)"
      ]
     },
     "execution_count": 124,
     "metadata": {},
     "output_type": "execute_result"
    },
    {
     "data": {
      "image/png": "[encoded data removed]",
      "text/plain": [
       "<Figure size 864x720 with 1 Axes>"
      ]
     },
     "metadata": {
      "needs_background": "light"
     },
     "output_type": "display_data"
    }
   ],
   "source": [
    "width = 12\n",
    "height = 10\n",
    "plt.figure(figsize=(width, height))\n",
    "sns.regplot(x=\"tier\", y=\"par_mean\", data=df)\n",
    "plt.ylim(0,)"
   ]
  },
  {
   "cell_type": "code",
   "execution_count": null,
   "metadata": {},
   "outputs": [],
   "source": []
  },
  {
   "cell_type": "code",
   "execution_count": 119,
   "metadata": {},
   "outputs": [],
   "source": [
    "#Multiple regression\n",
    "Z = df[['tier','par_mean']]"
   ]
  },
  {
   "cell_type": "code",
   "execution_count": 120,
   "metadata": {},
   "outputs": [
    {
     "data": {
      "text/plain": [
       "LinearRegression(copy_X=True, fit_intercept=True, n_jobs=None,\n",
       "         normalize=False)"
      ]
     },
     "execution_count": 120,
     "metadata": {},
     "output_type": "execute_result"
    }
   ],
   "source": [
    "lm.fit(Z, df['k_mean'])"
   ]
  },
  {
   "cell_type": "code",
   "execution_count": 121,
   "metadata": {},
   "outputs": [
    {
     "data": {
      "text/plain": [
       "59976.274574780946"
      ]
     },
     "execution_count": 121,
     "metadata": {},
     "output_type": "execute_result"
    }
   ],
   "source": [
    "lm.intercept_"
   ]
  },
  {
   "cell_type": "code",
   "execution_count": 122,
   "metadata": {},
   "outputs": [
    {
     "data": {
      "text/plain": [
       "array([-3.41029800e+03,  8.87776721e-03])"
      ]
     },
     "execution_count": 122,
     "metadata": {},
     "output_type": "execute_result"
    }
   ],
   "source": [
    "lm.coef_"
   ]
  },
  {
   "cell_type": "code",
   "execution_count": 126,
   "metadata": {},
   "outputs": [
    {
     "name": "stdout",
     "output_type": "stream",
     "text": [
      "The R-square is:  0.43309529720994056\n"
     ]
    }
   ],
   "source": [
    "# Fit the model \n",
    "lm.fit(Z, df['k_mean'])\n",
    "# Find the R^2\n",
    "print('The R-square is: ', lm.score(Z, df['k_mean']))"
   ]
  },
  {
   "cell_type": "code",
   "execution_count": 129,
   "metadata": {},
   "outputs": [],
   "source": []
  },
  {
   "cell_type": "code",
   "execution_count": 132,
   "metadata": {},
   "outputs": [],
   "source": [
    "from sklearn.metrics import mean_squared_error"
   ]
  },
  {
   "cell_type": "code",
   "execution_count": 133,
   "metadata": {},
   "outputs": [],
   "source": [
    "Y_predict_multifit = lm.predict(Z)"
   ]
  },
  {
   "cell_type": "code",
   "execution_count": 159,
   "metadata": {},
   "outputs": [
    {
     "name": "stdout",
     "output_type": "stream",
     "text": [
      "The mean square error of k_mean and predicted value using multifit is:  265336221.6484108\n"
     ]
    }
   ],
   "source": [
    "print('The mean square error of k_mean and predicted value using multifit is: ', \\\n",
    "      mean_squared_error(df['k_mean'], Y_predict_multifit))"
   ]
  },
  {
   "cell_type": "code",
   "execution_count": 151,
   "metadata": {},
   "outputs": [
    {
     "data": {
      "text/plain": [
       "0       1980\n",
       "1       1980\n",
       "2       1980\n",
       "3       1980\n",
       "4       1980\n",
       "5       1980\n",
       "6       1980\n",
       "7       1980\n",
       "8       1980\n",
       "9       1980\n",
       "10      1980\n",
       "11      1980\n",
       "12      1980\n",
       "13      1980\n",
       "14      1980\n",
       "15      1980\n",
       "16      1980\n",
       "17      1980\n",
       "18      1980\n",
       "19      1980\n",
       "20      1980\n",
       "21      1980\n",
       "22      1980\n",
       "23      1980\n",
       "24      1980\n",
       "25      1980\n",
       "26      1980\n",
       "27      1980\n",
       "28      1980\n",
       "29      1980\n",
       "        ... \n",
       "3498    1991\n",
       "3499    1991\n",
       "3500    1991\n",
       "3501    1991\n",
       "3502    1991\n",
       "3503    1991\n",
       "3504    1991\n",
       "3505    1991\n",
       "3506    1991\n",
       "3507    1991\n",
       "3508    1991\n",
       "3509    1991\n",
       "3510    1991\n",
       "3511    1991\n",
       "3512    1991\n",
       "3513    1991\n",
       "3514    1991\n",
       "3515    1991\n",
       "3516    1991\n",
       "3517    1991\n",
       "3518    1991\n",
       "3519    1991\n",
       "3520    1991\n",
       "3521    1991\n",
       "3522    1991\n",
       "3523    1991\n",
       "3524    1991\n",
       "3525    1991\n",
       "3526    1991\n",
       "3527    1991\n",
       "Name: cohort, Length: 3528, dtype: int64"
      ]
     },
     "execution_count": 151,
     "metadata": {},
     "output_type": "execute_result"
    }
   ],
   "source": [
    "df.loc[: , \"cohort\"]"
   ]
  },
  {
   "cell_type": "code",
   "execution_count": 152,
   "metadata": {},
   "outputs": [
    {
     "data": {
      "text/plain": [
       "(0, 217309.810425994)"
      ]
     },
     "execution_count": 152,
     "metadata": {},
     "output_type": "execute_result"
    },
    {
     "data": {
      "image/png": "[encoded data removed]",
      "text/plain": [
       "<Figure size 432x288 with 1 Axes>"
      ]
     },
     "metadata": {
      "needs_background": "light"
     },
     "output_type": "display_data"
    }
   ],
   "source": [
    "# Cohort as potential predictor variable of kids mean income\n",
    "sns.regplot(x=\"cohort\", y=\"k_mean\", data=df)\n",
    "plt.ylim(0,)"
   ]
  },
  {
   "cell_type": "code",
   "execution_count": 153,
   "metadata": {},
   "outputs": [
    {
     "name": "stdout",
     "output_type": "stream",
     "text": [
      "The Pearson Correlation Coefficient is -0.49207903266676367  with a P-value of P = 1.4107096790998975e-214\n"
     ]
    }
   ],
   "source": [
    "pearson_coef, p_value = stats.pearsonr(df['cohort'], df['k_mean'])\n",
    "print(\"The Pearson Correlation Coefficient is\", pearson_coef, \" with a P-value of P =\", p_value) "
   ]
  },
  {
   "cell_type": "code",
   "execution_count": 154,
   "metadata": {},
   "outputs": [],
   "source": [
    "#Multiple regression with three variables\n",
    "\n",
    "B = df[['tier','cohort','par_mean']]"
   ]
  },
  {
   "cell_type": "code",
   "execution_count": 155,
   "metadata": {},
   "outputs": [
    {
     "data": {
      "text/plain": [
       "LinearRegression(copy_X=True, fit_intercept=True, n_jobs=None,\n",
       "         normalize=False)"
      ]
     },
     "execution_count": 155,
     "metadata": {},
     "output_type": "execute_result"
    }
   ],
   "source": [
    "lm.fit(B, df['k_mean'])"
   ]
  },
  {
   "cell_type": "code",
   "execution_count": 156,
   "metadata": {},
   "outputs": [
    {
     "data": {
      "text/plain": [
       "6251109.931983379"
      ]
     },
     "execution_count": 156,
     "metadata": {},
     "output_type": "execute_result"
    }
   ],
   "source": [
    "lm.intercept_"
   ]
  },
  {
   "cell_type": "code",
   "execution_count": 157,
   "metadata": {},
   "outputs": [
    {
     "data": {
      "text/plain": [
       "array([-3.40645321e+03, -3.11827062e+03,  9.89632311e-03])"
      ]
     },
     "execution_count": 157,
     "metadata": {},
     "output_type": "execute_result"
    }
   ],
   "source": [
    "lm.coef_"
   ]
  },
  {
   "cell_type": "code",
   "execution_count": 158,
   "metadata": {},
   "outputs": [
    {
     "name": "stdout",
     "output_type": "stream",
     "text": [
      "The R-square is:  0.6803832703791385\n"
     ]
    }
   ],
   "source": [
    "# Fit the model \n",
    "lm.fit(B, df['k_mean'])\n",
    "# Find the R^2\n",
    "print('The R-square is: ', lm.score(B, df['k_mean']))"
   ]
  },
  {
   "cell_type": "code",
   "execution_count": 160,
   "metadata": {},
   "outputs": [],
   "source": [
    "Y_predict_multifit = lm.predict(B)"
   ]
  },
  {
   "cell_type": "code",
   "execution_count": 161,
   "metadata": {},
   "outputs": [
    {
     "name": "stdout",
     "output_type": "stream",
     "text": [
      "The mean square error of k_mean and predicted value using multifit is:  149594623.21593592\n"
     ]
    }
   ],
   "source": [
    "print('The mean square error of k_mean and predicted value using multifit is: ', \\\n",
    "      mean_squared_error(df['k_mean'], Y_predict_multifit))"
   ]
  },
  {
   "cell_type": "code",
   "execution_count": null,
   "metadata": {},
   "outputs": [],
   "source": []
  }
 ],
 "metadata": {
  "kernelspec": {
   "display_name": "Python 3",
   "language": "python",
   "name": "python3"
  },
  "language_info": {
   "codemirror_mode": {
    "name": "ipython",
    "version": 3
   },
   "file_extension": ".py",
   "mimetype": "text/x-python",
   "name": "python",
   "nbconvert_exporter": "python",
   "pygments_lexer": "ipython3",
   "version": "3.7.3"
  }
 },
 "nbformat": 4,
 "nbformat_minor": 2
}
